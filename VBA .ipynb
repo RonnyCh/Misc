{
 "cells": [
  {
   "cell_type": "code",
   "execution_count": 1,
   "metadata": {},
   "outputs": [],
   "source": [
    "h <- c(\"ronny\",\"Christianto\")"
   ]
  },
  {
   "cell_type": "code",
   "execution_count": 2,
   "metadata": {},
   "outputs": [
    {
     "data": {
      "text/html": [
       "<ol class=list-inline>\n",
       "\t<li>'ronny'</li>\n",
       "\t<li>'Christianto'</li>\n",
       "</ol>\n"
      ],
      "text/latex": [
       "\\begin{enumerate*}\n",
       "\\item 'ronny'\n",
       "\\item 'Christianto'\n",
       "\\end{enumerate*}\n"
      ],
      "text/markdown": [
       "1. 'ronny'\n",
       "2. 'Christianto'\n",
       "\n",
       "\n"
      ],
      "text/plain": [
       "[1] \"ronny\"       \"Christianto\""
      ]
     },
     "metadata": {},
     "output_type": "display_data"
    }
   ],
   "source": [
    "h[1:2]"
   ]
  },
  {
   "cell_type": "code",
   "execution_count": 3,
   "metadata": {},
   "outputs": [
    {
     "ename": "ERROR",
     "evalue": "Error in library(HistData): there is no package called 'HistData'\n",
     "output_type": "error",
     "traceback": [
      "Error in library(HistData): there is no package called 'HistData'\nTraceback:\n",
      "1. library(HistData)",
      "2. stop(txt, domain = NA)"
     ]
    }
   ],
   "source": [
    "library(HistData)"
   ]
  },
  {
   "cell_type": "code",
   "execution_count": 4,
   "metadata": {},
   "outputs": [
    {
     "data": {
      "text/html": [
       "<ol class=list-inline>\n",
       "\t<li>'natalinus'</li>\n",
       "\t<li>'Christianto'</li>\n",
       "</ol>\n"
      ],
      "text/latex": [
       "\\begin{enumerate*}\n",
       "\\item 'natalinus'\n",
       "\\item 'Christianto'\n",
       "\\end{enumerate*}\n"
      ],
      "text/markdown": [
       "1. 'natalinus'\n",
       "2. 'Christianto'\n",
       "\n",
       "\n"
      ],
      "text/plain": [
       "[1] \"natalinus\"   \"Christianto\""
      ]
     },
     "metadata": {},
     "output_type": "display_data"
    }
   ],
   "source": [
    "h[1]<-\"natalinus\"\n",
    "h"
   ]
  },
  {
   "cell_type": "code",
   "execution_count": null,
   "metadata": {},
   "outputs": [],
   "source": [
    "x <- Galton$child\n",
    "\n",
    "error_avg <- function(k){\n",
    "  x[1] <- k\n",
    "  mean(x)\n",
    "}\n",
    "\n",
    "error_avg(10000)\n",
    "error_avg(-10000)"
   ]
  },
  {
   "cell_type": "code",
   "execution_count": 5,
   "metadata": {},
   "outputs": [],
   "source": [
    "CPI <- function(a){a*1000}"
   ]
  },
  {
   "cell_type": "code",
   "execution_count": 7,
   "metadata": {},
   "outputs": [
    {
     "data": {
      "text/html": [
       "2000"
      ],
      "text/latex": [
       "2000"
      ],
      "text/markdown": [
       "2000"
      ],
      "text/plain": [
       "[1] 2000"
      ]
     },
     "metadata": {},
     "output_type": "display_data"
    }
   ],
   "source": [
    "CPI(2)"
   ]
  },
  {
   "cell_type": "code",
   "execution_count": 46,
   "metadata": {},
   "outputs": [
    {
     "data": {
      "text/plain": [
       "NULL"
      ]
     },
     "metadata": {},
     "output_type": "display_data"
    }
   ],
   "source": [
    "a <- c(5,2,10,4,8,6)\n",
    "nrow(a)"
   ]
  },
  {
   "cell_type": "code",
   "execution_count": 20,
   "metadata": {},
   "outputs": [
    {
     "data": {
      "text/html": [
       "3"
      ],
      "text/latex": [
       "3"
      ],
      "text/markdown": [
       "3"
      ],
      "text/plain": [
       "[1] 3"
      ]
     },
     "metadata": {},
     "output_type": "display_data"
    }
   ],
   "source": [
    "which.max(a)"
   ]
  },
  {
   "cell_type": "code",
   "execution_count": 26,
   "metadata": {},
   "outputs": [],
   "source": [
    "b = is.na(a)"
   ]
  },
  {
   "cell_type": "code",
   "execution_count": 29,
   "metadata": {},
   "outputs": [
    {
     "data": {
      "text/html": [
       "<ol class=list-inline>\n",
       "\t<li>FALSE</li>\n",
       "\t<li>FALSE</li>\n",
       "\t<li>FALSE</li>\n",
       "\t<li>FALSE</li>\n",
       "\t<li>TRUE</li>\n",
       "\t<li>FALSE</li>\n",
       "</ol>\n"
      ],
      "text/latex": [
       "\\begin{enumerate*}\n",
       "\\item FALSE\n",
       "\\item FALSE\n",
       "\\item FALSE\n",
       "\\item FALSE\n",
       "\\item TRUE\n",
       "\\item FALSE\n",
       "\\end{enumerate*}\n"
      ],
      "text/markdown": [
       "1. FALSE\n",
       "2. FALSE\n",
       "3. FALSE\n",
       "4. FALSE\n",
       "5. TRUE\n",
       "6. FALSE\n",
       "\n",
       "\n"
      ],
      "text/plain": [
       "[1] FALSE FALSE FALSE FALSE  TRUE FALSE"
      ]
     },
     "metadata": {},
     "output_type": "display_data"
    }
   ],
   "source": [
    "b"
   ]
  },
  {
   "cell_type": "code",
   "execution_count": 21,
   "metadata": {},
   "outputs": [
    {
     "data": {
      "text/html": [
       "<ol class=list-inline>\n",
       "\t<li>2</li>\n",
       "\t<li>4</li>\n",
       "\t<li>5</li>\n",
       "\t<li>6</li>\n",
       "\t<li>8</li>\n",
       "\t<li>10</li>\n",
       "</ol>\n"
      ],
      "text/latex": [
       "\\begin{enumerate*}\n",
       "\\item 2\n",
       "\\item 4\n",
       "\\item 5\n",
       "\\item 6\n",
       "\\item 8\n",
       "\\item 10\n",
       "\\end{enumerate*}\n"
      ],
      "text/markdown": [
       "1. 2\n",
       "2. 4\n",
       "3. 5\n",
       "4. 6\n",
       "5. 8\n",
       "6. 10\n",
       "\n",
       "\n"
      ],
      "text/plain": [
       "[1]  2  4  5  6  8 10"
      ]
     },
     "metadata": {},
     "output_type": "display_data"
    }
   ],
   "source": [
    "sort(a)"
   ]
  },
  {
   "cell_type": "code",
   "execution_count": null,
   "metadata": {},
   "outputs": [],
   "source": []
  },
  {
   "cell_type": "code",
   "execution_count": 22,
   "metadata": {},
   "outputs": [
    {
     "data": {
      "text/html": [
       "10"
      ],
      "text/latex": [
       "10"
      ],
      "text/markdown": [
       "10"
      ],
      "text/plain": [
       "[1] 10"
      ]
     },
     "metadata": {},
     "output_type": "display_data"
    }
   ],
   "source": [
    "a[3]"
   ]
  },
  {
   "cell_type": "code",
   "execution_count": 23,
   "metadata": {},
   "outputs": [
    {
     "data": {
      "text/html": [
       "<ol class=list-inline>\n",
       "\t<li>3</li>\n",
       "\t<li>1</li>\n",
       "\t<li>6</li>\n",
       "\t<li>2</li>\n",
       "\t<li>5</li>\n",
       "\t<li>4</li>\n",
       "</ol>\n"
      ],
      "text/latex": [
       "\\begin{enumerate*}\n",
       "\\item 3\n",
       "\\item 1\n",
       "\\item 6\n",
       "\\item 2\n",
       "\\item 5\n",
       "\\item 4\n",
       "\\end{enumerate*}\n"
      ],
      "text/markdown": [
       "1. 3\n",
       "2. 1\n",
       "3. 6\n",
       "4. 2\n",
       "5. 5\n",
       "6. 4\n",
       "\n",
       "\n"
      ],
      "text/plain": [
       "[1] 3 1 6 2 5 4"
      ]
     },
     "metadata": {},
     "output_type": "display_data"
    }
   ],
   "source": [
    "rank(a)"
   ]
  },
  {
   "cell_type": "code",
   "execution_count": 24,
   "metadata": {},
   "outputs": [
    {
     "data": {
      "text/html": [
       "<ol class=list-inline>\n",
       "\t<li>5</li>\n",
       "\t<li>2</li>\n",
       "\t<li>10</li>\n",
       "\t<li>4</li>\n",
       "\t<li>8</li>\n",
       "\t<li>6</li>\n",
       "</ol>\n"
      ],
      "text/latex": [
       "\\begin{enumerate*}\n",
       "\\item 5\n",
       "\\item 2\n",
       "\\item 10\n",
       "\\item 4\n",
       "\\item 8\n",
       "\\item 6\n",
       "\\end{enumerate*}\n"
      ],
      "text/markdown": [
       "1. 5\n",
       "2. 2\n",
       "3. 10\n",
       "4. 4\n",
       "5. 8\n",
       "6. 6\n",
       "\n",
       "\n"
      ],
      "text/plain": [
       "[1]  5  2 10  4  8  6"
      ]
     },
     "metadata": {},
     "output_type": "display_data"
    }
   ],
   "source": [
    "a"
   ]
  },
  {
   "cell_type": "code",
   "execution_count": null,
   "metadata": {},
   "outputs": [],
   "source": [
    "# Store temperatures in an object \n",
    "temp <- c(35, 88, 42, 84, 81, 30)\n",
    "\n",
    "# Store city names in an object \n",
    "city <- c(\"Beijing\", \"Lagos\", \"Paris\", \"Rio de Janeiro\", \"San Juan\", \"Toronto\")\n",
    "\n",
    "# Create data frame with city names and temperature \n",
    "city_temps <- data.frame(name = city, temperature = temp)\n",
    "\n",
    "# Define a variable states to be the state names \n",
    "states <- murders$state\n",
    "\n",
    "# Define a variable ranks to determine the population size ranks \n",
    "\n",
    "ranks <- rank(murders$population)\n",
    "\n",
    "# Create a data frame my_df with the state name and its rank\n",
    "\n",
    "my_df <- data.frame(name = states, rank = ranks)\n",
    "\n",
    "my_df\n"
   ]
  },
  {
   "cell_type": "code",
   "execution_count": null,
   "metadata": {},
   "outputs": [],
   "source": [
    "# Define a variable states to be the state names from the murders data frame\n",
    "\n",
    "states<-murders$state\n",
    "\n",
    "# Define a variable ranks to determine the population size ranks \n",
    "ranks<-rank(murders$population)\n",
    "\n",
    "# Define a variable ind to store the indexes needed to order the population values\n",
    "ind<-order(murders$population)\n",
    "\n",
    "# Create a data frame my_df with the state name and its rank and ordered from least populous to most \n",
    "my_df<- data.frame(name = states[ind] ,rank = ranks[ind])"
   ]
  },
  {
   "cell_type": "code",
   "execution_count": null,
   "metadata": {},
   "outputs": [],
   "source": [
    "# Note what we can do with the ! operator\n",
    "x <- c(1, 2, 3)\n",
    "ind <- c(FALSE, TRUE, FALSE)\n",
    "x[!ind]\n",
    "\n",
    "\n",
    "# Create the ind vector\n",
    "library(dslabs)\n",
    "data(na_example)\n",
    "ind <- is.na(na_example)\n",
    "\n",
    "# We saw that this gives an NA\n",
    "mean(na_example)\n",
    "\n",
    "# Compute the average, for entries of na_example that are not NA \n",
    "mean(na_example[!ind])"
   ]
  },
  {
   "cell_type": "code",
   "execution_count": null,
   "metadata": {},
   "outputs": [],
   "source": [
    "# Define an object `x` with the numbers 1 through 100\n",
    "x<-1:100\n",
    "# Compute the sum \n",
    "sum(1/x^2)"
   ]
  },
  {
   "cell_type": "code",
   "execution_count": null,
   "metadata": {},
   "outputs": [],
   "source": [
    "# Store the murder rate per 100,000 for each state, in `murder_rate`\n",
    "murder_rate <- murders$total / murders$population * 100000\n",
    "\n",
    "# Store the `murder_rate < 1` in `low` \n",
    "low <- murder_rate < 1"
   ]
  },
  {
   "cell_type": "code",
   "execution_count": null,
   "metadata": {},
   "outputs": [],
   "source": [
    "#which\n",
    "#The function which() help us know directly, which values are low or high, etc. Let's use it in this question.\n",
    "\n",
    "# Store the murder rate per 100,000 for each state, in murder_rate\n",
    "murder_rate <- murders$total/murders$population*100000\n",
    "\n",
    "# Store the murder_rate < 1 in low \n",
    "low <- murder_rate < 1\n",
    "\n",
    "# Get the indices of entries that are below 1\n",
    "index <- which(low)\n",
    "index\n",
    "\n",
    "\n",
    "\n",
    "\n",
    "\n",
    "# Store the murder rate per 100,000 for each state, in murder_rate\n",
    "murder_rate <- murders$total/murders$population*100000\n",
    "\n",
    "# Store the murder_rate < 1 in low \n",
    "low <- murder_rate < 1\n",
    "\n",
    "# Names of states with murder rates lower than 1\n",
    "murders$state[low]\n",
    "\n",
    "\n",
    "\n",
    "\n",
    "\n",
    "\n",
    "# Store the murder rate per 100,000 for each state, in `murder_rate`\n",
    "murder_rate <- murders$total/murders$population*100000\n",
    "\n",
    "# Store the `murder_rate < 1` in `low` \n",
    "low <- murder_rate < 1\n",
    "\n",
    "# Create a vector ind for states in the Northeast and with murder rates lower than 1. \n",
    "\n",
    "ind<- murders$region == 'Northeast' & low\n",
    "ind\n",
    "\n",
    "# Names of states in `ind` \n",
    "murders$state[ind]\n",
    "\n",
    "\n",
    "\n",
    "\n",
    "\n",
    "\n",
    "# Store the murder rate per 100,000 for each state, in murder_rate\n",
    "murder_rate <- murders$total/murders$population*100000\n",
    "\n",
    "# Compute average murder rate and store in avg using mean\n",
    "avg <-mean(murder_rate)\n",
    "\n",
    "# How many states are < avg ? Check using sum \n",
    "sum(murder_rate < avg)\n"
   ]
  },
  {
   "cell_type": "code",
   "execution_count": null,
   "metadata": {},
   "outputs": [],
   "source": [
    "# Store the 3 abbreviations in abbs in a vector (remember that they are character vectors and need quotes)\n",
    "abbs = c(\"AK\",\"MI\",\"IA\")\n",
    "# Match the abbs to the murders$abb and store in ind\n",
    "ind = match(abbs,murders$abb)\n",
    "# Print state names from ind\n",
    "murders$state[ind]"
   ]
  },
  {
   "cell_type": "code",
   "execution_count": null,
   "metadata": {},
   "outputs": [],
   "source": [
    "# Store the 5 abbreviations in `abbs`. (remember that they are character vectors)\n",
    "abbs <- c(\"MA\",\"ME\",\"MI\",\"MO\",\"MU\")\n",
    "\n",
    "# Use the %in% command to check if the entries of abbs are abbreviations in the the murders data frame\n",
    "abbs %in% murders$abb"
   ]
  },
  {
   "cell_type": "code",
   "execution_count": null,
   "metadata": {},
   "outputs": [],
   "source": [
    "# Store the 5 abbreviations in abbs. (remember that they are character vectors)\n",
    "abbs <- c(\"MA\", \"ME\", \"MI\", \"MO\", \"MU\") \n",
    "\n",
    "# Use the `which` command and `!` operator to find out which abbreviation are not actually part of the dataset and store in ind\n",
    "ind <- which(!abbs%in%murders$abb)\n",
    "# What are the entries of abbs that are not actual abbreviations\n",
    "abbs[5]"
   ]
  },
  {
   "cell_type": "code",
   "execution_count": 31,
   "metadata": {},
   "outputs": [
    {
     "data": {
      "text/html": [
       "<table>\n",
       "<thead><tr><th scope=col>state</th><th scope=col>abb</th><th scope=col>region</th><th scope=col>population</th><th scope=col>total</th><th scope=col>rate</th></tr></thead>\n",
       "<tbody>\n",
       "\t<tr><td>Alabama             </td><td>AL                  </td><td>South               </td><td> 4779736            </td><td> 135                </td><td> 2.8244238          </td></tr>\n",
       "\t<tr><td>Alaska              </td><td>AK                  </td><td>West                </td><td>  710231            </td><td>  19                </td><td> 2.6751860          </td></tr>\n",
       "\t<tr><td>Arizona             </td><td>AZ                  </td><td>West                </td><td> 6392017            </td><td> 232                </td><td> 3.6295273          </td></tr>\n",
       "\t<tr><td>Arkansas            </td><td>AR                  </td><td>South               </td><td> 2915918            </td><td>  93                </td><td> 3.1893901          </td></tr>\n",
       "\t<tr><td>California          </td><td>CA                  </td><td>West                </td><td>37253956            </td><td>1257                </td><td> 3.3741383          </td></tr>\n",
       "\t<tr><td>Colorado            </td><td>CO                  </td><td>West                </td><td> 5029196            </td><td>  65                </td><td> 1.2924531          </td></tr>\n",
       "\t<tr><td>Connecticut         </td><td>CT                  </td><td>Northeast           </td><td> 3574097            </td><td>  97                </td><td> 2.7139722          </td></tr>\n",
       "\t<tr><td>Delaware            </td><td>DE                  </td><td>South               </td><td>  897934            </td><td>  38                </td><td> 4.2319369          </td></tr>\n",
       "\t<tr><td>District of Columbia</td><td>DC                  </td><td>South               </td><td>  601723            </td><td>  99                </td><td>16.4527532          </td></tr>\n",
       "\t<tr><td>Florida             </td><td>FL                  </td><td>South               </td><td>19687653            </td><td> 669                </td><td> 3.3980688          </td></tr>\n",
       "\t<tr><td>Georgia             </td><td>GA                  </td><td>South               </td><td> 9920000            </td><td> 376                </td><td> 3.7903226          </td></tr>\n",
       "\t<tr><td>Hawaii              </td><td>HI                  </td><td>West                </td><td> 1360301            </td><td>   7                </td><td> 0.5145920          </td></tr>\n",
       "\t<tr><td>Idaho               </td><td>ID                  </td><td>West                </td><td> 1567582            </td><td>  12                </td><td> 0.7655102          </td></tr>\n",
       "\t<tr><td>Illinois            </td><td>IL                  </td><td>North Central       </td><td>12830632            </td><td> 364                </td><td> 2.8369608          </td></tr>\n",
       "\t<tr><td>Indiana             </td><td>IN                  </td><td>North Central       </td><td> 6483802            </td><td> 142                </td><td> 2.1900730          </td></tr>\n",
       "\t<tr><td>Iowa                </td><td>IA                  </td><td>North Central       </td><td> 3046355            </td><td>  21                </td><td> 0.6893484          </td></tr>\n",
       "\t<tr><td>Kansas              </td><td>KS                  </td><td>North Central       </td><td> 2853118            </td><td>  63                </td><td> 2.2081106          </td></tr>\n",
       "\t<tr><td>Kentucky            </td><td>KY                  </td><td>South               </td><td> 4339367            </td><td> 116                </td><td> 2.6732010          </td></tr>\n",
       "\t<tr><td>Louisiana           </td><td>LA                  </td><td>South               </td><td> 4533372            </td><td> 351                </td><td> 7.7425810          </td></tr>\n",
       "\t<tr><td>Maine               </td><td>ME                  </td><td>Northeast           </td><td> 1328361            </td><td>  11                </td><td> 0.8280881          </td></tr>\n",
       "\t<tr><td>Maryland            </td><td>MD                  </td><td>South               </td><td> 5773552            </td><td> 293                </td><td> 5.0748655          </td></tr>\n",
       "\t<tr><td>Massachusetts       </td><td>MA                  </td><td>Northeast           </td><td> 6547629            </td><td> 118                </td><td> 1.8021791          </td></tr>\n",
       "\t<tr><td>Michigan            </td><td>MI                  </td><td>North Central       </td><td> 9883640            </td><td> 413                </td><td> 4.1786225          </td></tr>\n",
       "\t<tr><td>Minnesota           </td><td>MN                  </td><td>North Central       </td><td> 5303925            </td><td>  53                </td><td> 0.9992600          </td></tr>\n",
       "\t<tr><td>Mississippi         </td><td>MS                  </td><td>South               </td><td> 2967297            </td><td> 120                </td><td> 4.0440846          </td></tr>\n",
       "\t<tr><td>Missouri            </td><td>MO                  </td><td>North Central       </td><td> 5988927            </td><td> 321                </td><td> 5.3598917          </td></tr>\n",
       "\t<tr><td>Montana             </td><td>MT                  </td><td>West                </td><td>  989415            </td><td>  12                </td><td> 1.2128379          </td></tr>\n",
       "\t<tr><td>Nebraska            </td><td>NE                  </td><td>North Central       </td><td> 1826341            </td><td>  32                </td><td> 1.7521372          </td></tr>\n",
       "\t<tr><td>Nevada              </td><td>NV                  </td><td>West                </td><td> 2700551            </td><td>  84                </td><td> 3.1104763          </td></tr>\n",
       "\t<tr><td>New Hampshire       </td><td>NH                  </td><td>Northeast           </td><td> 1316470            </td><td>   5                </td><td> 0.3798036          </td></tr>\n",
       "\t<tr><td>New Jersey          </td><td>NJ                  </td><td>Northeast           </td><td> 8791894            </td><td> 246                </td><td> 2.7980319          </td></tr>\n",
       "\t<tr><td>New Mexico          </td><td>NM                  </td><td>West                </td><td> 2059179            </td><td>  67                </td><td> 3.2537239          </td></tr>\n",
       "\t<tr><td>New York            </td><td>NY                  </td><td>Northeast           </td><td>19378102            </td><td> 517                </td><td> 2.6679599          </td></tr>\n",
       "\t<tr><td>North Carolina      </td><td>NC                  </td><td>South               </td><td> 9535483            </td><td> 286                </td><td> 2.9993237          </td></tr>\n",
       "\t<tr><td>North Dakota        </td><td>ND                  </td><td>North Central       </td><td>  672591            </td><td>   4                </td><td> 0.5947151          </td></tr>\n",
       "\t<tr><td>Ohio                </td><td>OH                  </td><td>North Central       </td><td>11536504            </td><td> 310                </td><td> 2.6871225          </td></tr>\n",
       "\t<tr><td>Oklahoma            </td><td>OK                  </td><td>South               </td><td> 3751351            </td><td> 111                </td><td> 2.9589340          </td></tr>\n",
       "\t<tr><td>Oregon              </td><td>OR                  </td><td>West                </td><td> 3831074            </td><td>  36                </td><td> 0.9396843          </td></tr>\n",
       "\t<tr><td>Pennsylvania        </td><td>PA                  </td><td>Northeast           </td><td>12702379            </td><td> 457                </td><td> 3.5977513          </td></tr>\n",
       "\t<tr><td>Rhode Island        </td><td>RI                  </td><td>Northeast           </td><td> 1052567            </td><td>  16                </td><td> 1.5200933          </td></tr>\n",
       "\t<tr><td>South Carolina      </td><td>SC                  </td><td>South               </td><td> 4625364            </td><td> 207                </td><td> 4.4753235          </td></tr>\n",
       "\t<tr><td>South Dakota        </td><td>SD                  </td><td>North Central       </td><td>  814180            </td><td>   8                </td><td> 0.9825837          </td></tr>\n",
       "\t<tr><td>Tennessee           </td><td>TN                  </td><td>South               </td><td> 6346105            </td><td> 219                </td><td> 3.4509357          </td></tr>\n",
       "\t<tr><td>Texas               </td><td>TX                  </td><td>South               </td><td>25145561            </td><td> 805                </td><td> 3.2013603          </td></tr>\n",
       "\t<tr><td>Utah                </td><td>UT                  </td><td>West                </td><td> 2763885            </td><td>  22                </td><td> 0.7959810          </td></tr>\n",
       "\t<tr><td>Vermont             </td><td>VT                  </td><td>Northeast           </td><td>  625741            </td><td>   2                </td><td> 0.3196211          </td></tr>\n",
       "\t<tr><td>Virginia            </td><td>VA                  </td><td>South               </td><td> 8001024            </td><td> 250                </td><td> 3.1246001          </td></tr>\n",
       "\t<tr><td>Washington          </td><td>WA                  </td><td>West                </td><td> 6724540            </td><td>  93                </td><td> 1.3829942          </td></tr>\n",
       "\t<tr><td>West Virginia       </td><td>WV                  </td><td>South               </td><td> 1852994            </td><td>  27                </td><td> 1.4571013          </td></tr>\n",
       "\t<tr><td>Wisconsin           </td><td>WI                  </td><td>North Central       </td><td> 5686986            </td><td>  97                </td><td> 1.7056487          </td></tr>\n",
       "\t<tr><td>Wyoming             </td><td>WY                  </td><td>West                </td><td>  563626            </td><td>   5                </td><td> 0.8871131          </td></tr>\n",
       "</tbody>\n",
       "</table>\n"
      ],
      "text/latex": [
       "\\begin{tabular}{r|llllll}\n",
       " state & abb & region & population & total & rate\\\\\n",
       "\\hline\n",
       "\t Alabama              & AL                   & South                &  4779736             &  135                 &  2.8244238          \\\\\n",
       "\t Alaska               & AK                   & West                 &   710231             &   19                 &  2.6751860          \\\\\n",
       "\t Arizona              & AZ                   & West                 &  6392017             &  232                 &  3.6295273          \\\\\n",
       "\t Arkansas             & AR                   & South                &  2915918             &   93                 &  3.1893901          \\\\\n",
       "\t California           & CA                   & West                 & 37253956             & 1257                 &  3.3741383          \\\\\n",
       "\t Colorado             & CO                   & West                 &  5029196             &   65                 &  1.2924531          \\\\\n",
       "\t Connecticut          & CT                   & Northeast            &  3574097             &   97                 &  2.7139722          \\\\\n",
       "\t Delaware             & DE                   & South                &   897934             &   38                 &  4.2319369          \\\\\n",
       "\t District of Columbia & DC                   & South                &   601723             &   99                 & 16.4527532          \\\\\n",
       "\t Florida              & FL                   & South                & 19687653             &  669                 &  3.3980688          \\\\\n",
       "\t Georgia              & GA                   & South                &  9920000             &  376                 &  3.7903226          \\\\\n",
       "\t Hawaii               & HI                   & West                 &  1360301             &    7                 &  0.5145920          \\\\\n",
       "\t Idaho                & ID                   & West                 &  1567582             &   12                 &  0.7655102          \\\\\n",
       "\t Illinois             & IL                   & North Central        & 12830632             &  364                 &  2.8369608          \\\\\n",
       "\t Indiana              & IN                   & North Central        &  6483802             &  142                 &  2.1900730          \\\\\n",
       "\t Iowa                 & IA                   & North Central        &  3046355             &   21                 &  0.6893484          \\\\\n",
       "\t Kansas               & KS                   & North Central        &  2853118             &   63                 &  2.2081106          \\\\\n",
       "\t Kentucky             & KY                   & South                &  4339367             &  116                 &  2.6732010          \\\\\n",
       "\t Louisiana            & LA                   & South                &  4533372             &  351                 &  7.7425810          \\\\\n",
       "\t Maine                & ME                   & Northeast            &  1328361             &   11                 &  0.8280881          \\\\\n",
       "\t Maryland             & MD                   & South                &  5773552             &  293                 &  5.0748655          \\\\\n",
       "\t Massachusetts        & MA                   & Northeast            &  6547629             &  118                 &  1.8021791          \\\\\n",
       "\t Michigan             & MI                   & North Central        &  9883640             &  413                 &  4.1786225          \\\\\n",
       "\t Minnesota            & MN                   & North Central        &  5303925             &   53                 &  0.9992600          \\\\\n",
       "\t Mississippi          & MS                   & South                &  2967297             &  120                 &  4.0440846          \\\\\n",
       "\t Missouri             & MO                   & North Central        &  5988927             &  321                 &  5.3598917          \\\\\n",
       "\t Montana              & MT                   & West                 &   989415             &   12                 &  1.2128379          \\\\\n",
       "\t Nebraska             & NE                   & North Central        &  1826341             &   32                 &  1.7521372          \\\\\n",
       "\t Nevada               & NV                   & West                 &  2700551             &   84                 &  3.1104763          \\\\\n",
       "\t New Hampshire        & NH                   & Northeast            &  1316470             &    5                 &  0.3798036          \\\\\n",
       "\t New Jersey           & NJ                   & Northeast            &  8791894             &  246                 &  2.7980319          \\\\\n",
       "\t New Mexico           & NM                   & West                 &  2059179             &   67                 &  3.2537239          \\\\\n",
       "\t New York             & NY                   & Northeast            & 19378102             &  517                 &  2.6679599          \\\\\n",
       "\t North Carolina       & NC                   & South                &  9535483             &  286                 &  2.9993237          \\\\\n",
       "\t North Dakota         & ND                   & North Central        &   672591             &    4                 &  0.5947151          \\\\\n",
       "\t Ohio                 & OH                   & North Central        & 11536504             &  310                 &  2.6871225          \\\\\n",
       "\t Oklahoma             & OK                   & South                &  3751351             &  111                 &  2.9589340          \\\\\n",
       "\t Oregon               & OR                   & West                 &  3831074             &   36                 &  0.9396843          \\\\\n",
       "\t Pennsylvania         & PA                   & Northeast            & 12702379             &  457                 &  3.5977513          \\\\\n",
       "\t Rhode Island         & RI                   & Northeast            &  1052567             &   16                 &  1.5200933          \\\\\n",
       "\t South Carolina       & SC                   & South                &  4625364             &  207                 &  4.4753235          \\\\\n",
       "\t South Dakota         & SD                   & North Central        &   814180             &    8                 &  0.9825837          \\\\\n",
       "\t Tennessee            & TN                   & South                &  6346105             &  219                 &  3.4509357          \\\\\n",
       "\t Texas                & TX                   & South                & 25145561             &  805                 &  3.2013603          \\\\\n",
       "\t Utah                 & UT                   & West                 &  2763885             &   22                 &  0.7959810          \\\\\n",
       "\t Vermont              & VT                   & Northeast            &   625741             &    2                 &  0.3196211          \\\\\n",
       "\t Virginia             & VA                   & South                &  8001024             &  250                 &  3.1246001          \\\\\n",
       "\t Washington           & WA                   & West                 &  6724540             &   93                 &  1.3829942          \\\\\n",
       "\t West Virginia        & WV                   & South                &  1852994             &   27                 &  1.4571013          \\\\\n",
       "\t Wisconsin            & WI                   & North Central        &  5686986             &   97                 &  1.7056487          \\\\\n",
       "\t Wyoming              & WY                   & West                 &   563626             &    5                 &  0.8871131          \\\\\n",
       "\\end{tabular}\n"
      ],
      "text/markdown": [
       "\n",
       "state | abb | region | population | total | rate | \n",
       "|---|---|---|---|---|---|---|---|---|---|---|---|---|---|---|---|---|---|---|---|---|---|---|---|---|---|---|---|---|---|---|---|---|---|---|---|---|---|---|---|---|---|---|---|---|---|---|---|---|---|---|\n",
       "| Alabama              | AL                   | South                |  4779736             |  135                 |  2.8244238           | \n",
       "| Alaska               | AK                   | West                 |   710231             |   19                 |  2.6751860           | \n",
       "| Arizona              | AZ                   | West                 |  6392017             |  232                 |  3.6295273           | \n",
       "| Arkansas             | AR                   | South                |  2915918             |   93                 |  3.1893901           | \n",
       "| California           | CA                   | West                 | 37253956             | 1257                 |  3.3741383           | \n",
       "| Colorado             | CO                   | West                 |  5029196             |   65                 |  1.2924531           | \n",
       "| Connecticut          | CT                   | Northeast            |  3574097             |   97                 |  2.7139722           | \n",
       "| Delaware             | DE                   | South                |   897934             |   38                 |  4.2319369           | \n",
       "| District of Columbia | DC                   | South                |   601723             |   99                 | 16.4527532           | \n",
       "| Florida              | FL                   | South                | 19687653             |  669                 |  3.3980688           | \n",
       "| Georgia              | GA                   | South                |  9920000             |  376                 |  3.7903226           | \n",
       "| Hawaii               | HI                   | West                 |  1360301             |    7                 |  0.5145920           | \n",
       "| Idaho                | ID                   | West                 |  1567582             |   12                 |  0.7655102           | \n",
       "| Illinois             | IL                   | North Central        | 12830632             |  364                 |  2.8369608           | \n",
       "| Indiana              | IN                   | North Central        |  6483802             |  142                 |  2.1900730           | \n",
       "| Iowa                 | IA                   | North Central        |  3046355             |   21                 |  0.6893484           | \n",
       "| Kansas               | KS                   | North Central        |  2853118             |   63                 |  2.2081106           | \n",
       "| Kentucky             | KY                   | South                |  4339367             |  116                 |  2.6732010           | \n",
       "| Louisiana            | LA                   | South                |  4533372             |  351                 |  7.7425810           | \n",
       "| Maine                | ME                   | Northeast            |  1328361             |   11                 |  0.8280881           | \n",
       "| Maryland             | MD                   | South                |  5773552             |  293                 |  5.0748655           | \n",
       "| Massachusetts        | MA                   | Northeast            |  6547629             |  118                 |  1.8021791           | \n",
       "| Michigan             | MI                   | North Central        |  9883640             |  413                 |  4.1786225           | \n",
       "| Minnesota            | MN                   | North Central        |  5303925             |   53                 |  0.9992600           | \n",
       "| Mississippi          | MS                   | South                |  2967297             |  120                 |  4.0440846           | \n",
       "| Missouri             | MO                   | North Central        |  5988927             |  321                 |  5.3598917           | \n",
       "| Montana              | MT                   | West                 |   989415             |   12                 |  1.2128379           | \n",
       "| Nebraska             | NE                   | North Central        |  1826341             |   32                 |  1.7521372           | \n",
       "| Nevada               | NV                   | West                 |  2700551             |   84                 |  3.1104763           | \n",
       "| New Hampshire        | NH                   | Northeast            |  1316470             |    5                 |  0.3798036           | \n",
       "| New Jersey           | NJ                   | Northeast            |  8791894             |  246                 |  2.7980319           | \n",
       "| New Mexico           | NM                   | West                 |  2059179             |   67                 |  3.2537239           | \n",
       "| New York             | NY                   | Northeast            | 19378102             |  517                 |  2.6679599           | \n",
       "| North Carolina       | NC                   | South                |  9535483             |  286                 |  2.9993237           | \n",
       "| North Dakota         | ND                   | North Central        |   672591             |    4                 |  0.5947151           | \n",
       "| Ohio                 | OH                   | North Central        | 11536504             |  310                 |  2.6871225           | \n",
       "| Oklahoma             | OK                   | South                |  3751351             |  111                 |  2.9589340           | \n",
       "| Oregon               | OR                   | West                 |  3831074             |   36                 |  0.9396843           | \n",
       "| Pennsylvania         | PA                   | Northeast            | 12702379             |  457                 |  3.5977513           | \n",
       "| Rhode Island         | RI                   | Northeast            |  1052567             |   16                 |  1.5200933           | \n",
       "| South Carolina       | SC                   | South                |  4625364             |  207                 |  4.4753235           | \n",
       "| South Dakota         | SD                   | North Central        |   814180             |    8                 |  0.9825837           | \n",
       "| Tennessee            | TN                   | South                |  6346105             |  219                 |  3.4509357           | \n",
       "| Texas                | TX                   | South                | 25145561             |  805                 |  3.2013603           | \n",
       "| Utah                 | UT                   | West                 |  2763885             |   22                 |  0.7959810           | \n",
       "| Vermont              | VT                   | Northeast            |   625741             |    2                 |  0.3196211           | \n",
       "| Virginia             | VA                   | South                |  8001024             |  250                 |  3.1246001           | \n",
       "| Washington           | WA                   | West                 |  6724540             |   93                 |  1.3829942           | \n",
       "| West Virginia        | WV                   | South                |  1852994             |   27                 |  1.4571013           | \n",
       "| Wisconsin            | WI                   | North Central        |  5686986             |   97                 |  1.7056487           | \n",
       "| Wyoming              | WY                   | West                 |   563626             |    5                 |  0.8871131           | \n",
       "\n",
       "\n"
      ],
      "text/plain": [
       "   state                abb region        population total rate      \n",
       "1  Alabama              AL  South          4779736    135   2.8244238\n",
       "2  Alaska               AK  West            710231     19   2.6751860\n",
       "3  Arizona              AZ  West           6392017    232   3.6295273\n",
       "4  Arkansas             AR  South          2915918     93   3.1893901\n",
       "5  California           CA  West          37253956   1257   3.3741383\n",
       "6  Colorado             CO  West           5029196     65   1.2924531\n",
       "7  Connecticut          CT  Northeast      3574097     97   2.7139722\n",
       "8  Delaware             DE  South           897934     38   4.2319369\n",
       "9  District of Columbia DC  South           601723     99  16.4527532\n",
       "10 Florida              FL  South         19687653    669   3.3980688\n",
       "11 Georgia              GA  South          9920000    376   3.7903226\n",
       "12 Hawaii               HI  West           1360301      7   0.5145920\n",
       "13 Idaho                ID  West           1567582     12   0.7655102\n",
       "14 Illinois             IL  North Central 12830632    364   2.8369608\n",
       "15 Indiana              IN  North Central  6483802    142   2.1900730\n",
       "16 Iowa                 IA  North Central  3046355     21   0.6893484\n",
       "17 Kansas               KS  North Central  2853118     63   2.2081106\n",
       "18 Kentucky             KY  South          4339367    116   2.6732010\n",
       "19 Louisiana            LA  South          4533372    351   7.7425810\n",
       "20 Maine                ME  Northeast      1328361     11   0.8280881\n",
       "21 Maryland             MD  South          5773552    293   5.0748655\n",
       "22 Massachusetts        MA  Northeast      6547629    118   1.8021791\n",
       "23 Michigan             MI  North Central  9883640    413   4.1786225\n",
       "24 Minnesota            MN  North Central  5303925     53   0.9992600\n",
       "25 Mississippi          MS  South          2967297    120   4.0440846\n",
       "26 Missouri             MO  North Central  5988927    321   5.3598917\n",
       "27 Montana              MT  West            989415     12   1.2128379\n",
       "28 Nebraska             NE  North Central  1826341     32   1.7521372\n",
       "29 Nevada               NV  West           2700551     84   3.1104763\n",
       "30 New Hampshire        NH  Northeast      1316470      5   0.3798036\n",
       "31 New Jersey           NJ  Northeast      8791894    246   2.7980319\n",
       "32 New Mexico           NM  West           2059179     67   3.2537239\n",
       "33 New York             NY  Northeast     19378102    517   2.6679599\n",
       "34 North Carolina       NC  South          9535483    286   2.9993237\n",
       "35 North Dakota         ND  North Central   672591      4   0.5947151\n",
       "36 Ohio                 OH  North Central 11536504    310   2.6871225\n",
       "37 Oklahoma             OK  South          3751351    111   2.9589340\n",
       "38 Oregon               OR  West           3831074     36   0.9396843\n",
       "39 Pennsylvania         PA  Northeast     12702379    457   3.5977513\n",
       "40 Rhode Island         RI  Northeast      1052567     16   1.5200933\n",
       "41 South Carolina       SC  South          4625364    207   4.4753235\n",
       "42 South Dakota         SD  North Central   814180      8   0.9825837\n",
       "43 Tennessee            TN  South          6346105    219   3.4509357\n",
       "44 Texas                TX  South         25145561    805   3.2013603\n",
       "45 Utah                 UT  West           2763885     22   0.7959810\n",
       "46 Vermont              VT  Northeast       625741      2   0.3196211\n",
       "47 Virginia             VA  South          8001024    250   3.1246001\n",
       "48 Washington           WA  West           6724540     93   1.3829942\n",
       "49 West Virginia        WV  South          1852994     27   1.4571013\n",
       "50 Wisconsin            WI  North Central  5686986     97   1.7056487\n",
       "51 Wyoming              WY  West            563626      5   0.8871131"
      ]
     },
     "metadata": {},
     "output_type": "display_data"
    }
   ],
   "source": [
    "\n",
    "\n",
    "# Redefine murders so that it includes column named rate with the per 100,000 murder rates\n",
    "murders<-mutate(murders,rate=murders$total/murders$population*100000)\n",
    "murders"
   ]
  },
  {
   "cell_type": "code",
   "execution_count": 33,
   "metadata": {},
   "outputs": [
    {
     "data": {
      "text/html": [
       "<ol class=list-inline>\n",
       "\t<li>4</li>\n",
       "\t<li>1</li>\n",
       "\t<li>5</li>\n",
       "\t<li>3</li>\n",
       "\t<li>2</li>\n",
       "</ol>\n"
      ],
      "text/latex": [
       "\\begin{enumerate*}\n",
       "\\item 4\n",
       "\\item 1\n",
       "\\item 5\n",
       "\\item 3\n",
       "\\item 2\n",
       "\\end{enumerate*}\n"
      ],
      "text/markdown": [
       "1. 4\n",
       "2. 1\n",
       "3. 5\n",
       "4. 3\n",
       "5. 2\n",
       "\n",
       "\n"
      ],
      "text/plain": [
       "[1] 4 1 5 3 2"
      ]
     },
     "metadata": {},
     "output_type": "display_data"
    },
    {
     "data": {
      "text/html": [
       "<table>\n",
       "<thead><tr><th scope=col>state</th><th scope=col>abb</th><th scope=col>region</th><th scope=col>population</th><th scope=col>total</th><th scope=col>rate</th><th scope=col>rank</th></tr></thead>\n",
       "<tbody>\n",
       "\t<tr><td>Alabama             </td><td>AL                  </td><td>South               </td><td> 4779736            </td><td> 135                </td><td> 2.8244238          </td><td>23                  </td></tr>\n",
       "\t<tr><td>Alaska              </td><td>AK                  </td><td>West                </td><td>  710231            </td><td>  19                </td><td> 2.6751860          </td><td>27                  </td></tr>\n",
       "\t<tr><td>Arizona             </td><td>AZ                  </td><td>West                </td><td> 6392017            </td><td> 232                </td><td> 3.6295273          </td><td>10                  </td></tr>\n",
       "\t<tr><td>Arkansas            </td><td>AR                  </td><td>South               </td><td> 2915918            </td><td>  93                </td><td> 3.1893901          </td><td>17                  </td></tr>\n",
       "\t<tr><td>California          </td><td>CA                  </td><td>West                </td><td>37253956            </td><td>1257                </td><td> 3.3741383          </td><td>14                  </td></tr>\n",
       "\t<tr><td>Colorado            </td><td>CO                  </td><td>West                </td><td> 5029196            </td><td>  65                </td><td> 1.2924531          </td><td>38                  </td></tr>\n",
       "\t<tr><td>Connecticut         </td><td>CT                  </td><td>Northeast           </td><td> 3574097            </td><td>  97                </td><td> 2.7139722          </td><td>25                  </td></tr>\n",
       "\t<tr><td>Delaware            </td><td>DE                  </td><td>South               </td><td>  897934            </td><td>  38                </td><td> 4.2319369          </td><td> 6                  </td></tr>\n",
       "\t<tr><td>District of Columbia</td><td>DC                  </td><td>South               </td><td>  601723            </td><td>  99                </td><td>16.4527532          </td><td> 1                  </td></tr>\n",
       "\t<tr><td>Florida             </td><td>FL                  </td><td>South               </td><td>19687653            </td><td> 669                </td><td> 3.3980688          </td><td>13                  </td></tr>\n",
       "\t<tr><td>Georgia             </td><td>GA                  </td><td>South               </td><td> 9920000            </td><td> 376                </td><td> 3.7903226          </td><td> 9                  </td></tr>\n",
       "\t<tr><td>Hawaii              </td><td>HI                  </td><td>West                </td><td> 1360301            </td><td>   7                </td><td> 0.5145920          </td><td>49                  </td></tr>\n",
       "\t<tr><td>Idaho               </td><td>ID                  </td><td>West                </td><td> 1567582            </td><td>  12                </td><td> 0.7655102          </td><td>46                  </td></tr>\n",
       "\t<tr><td>Illinois            </td><td>IL                  </td><td>North Central       </td><td>12830632            </td><td> 364                </td><td> 2.8369608          </td><td>22                  </td></tr>\n",
       "\t<tr><td>Indiana             </td><td>IN                  </td><td>North Central       </td><td> 6483802            </td><td> 142                </td><td> 2.1900730          </td><td>31                  </td></tr>\n",
       "\t<tr><td>Iowa                </td><td>IA                  </td><td>North Central       </td><td> 3046355            </td><td>  21                </td><td> 0.6893484          </td><td>47                  </td></tr>\n",
       "\t<tr><td>Kansas              </td><td>KS                  </td><td>North Central       </td><td> 2853118            </td><td>  63                </td><td> 2.2081106          </td><td>30                  </td></tr>\n",
       "\t<tr><td>Kentucky            </td><td>KY                  </td><td>South               </td><td> 4339367            </td><td> 116                </td><td> 2.6732010          </td><td>28                  </td></tr>\n",
       "\t<tr><td>Louisiana           </td><td>LA                  </td><td>South               </td><td> 4533372            </td><td> 351                </td><td> 7.7425810          </td><td> 2                  </td></tr>\n",
       "\t<tr><td>Maine               </td><td>ME                  </td><td>Northeast           </td><td> 1328361            </td><td>  11                </td><td> 0.8280881          </td><td>44                  </td></tr>\n",
       "\t<tr><td>Maryland            </td><td>MD                  </td><td>South               </td><td> 5773552            </td><td> 293                </td><td> 5.0748655          </td><td> 4                  </td></tr>\n",
       "\t<tr><td>Massachusetts       </td><td>MA                  </td><td>Northeast           </td><td> 6547629            </td><td> 118                </td><td> 1.8021791          </td><td>32                  </td></tr>\n",
       "\t<tr><td>Michigan            </td><td>MI                  </td><td>North Central       </td><td> 9883640            </td><td> 413                </td><td> 4.1786225          </td><td> 7                  </td></tr>\n",
       "\t<tr><td>Minnesota           </td><td>MN                  </td><td>North Central       </td><td> 5303925            </td><td>  53                </td><td> 0.9992600          </td><td>40                  </td></tr>\n",
       "\t<tr><td>Mississippi         </td><td>MS                  </td><td>South               </td><td> 2967297            </td><td> 120                </td><td> 4.0440846          </td><td> 8                  </td></tr>\n",
       "\t<tr><td>Missouri            </td><td>MO                  </td><td>North Central       </td><td> 5988927            </td><td> 321                </td><td> 5.3598917          </td><td> 3                  </td></tr>\n",
       "\t<tr><td>Montana             </td><td>MT                  </td><td>West                </td><td>  989415            </td><td>  12                </td><td> 1.2128379          </td><td>39                  </td></tr>\n",
       "\t<tr><td>Nebraska            </td><td>NE                  </td><td>North Central       </td><td> 1826341            </td><td>  32                </td><td> 1.7521372          </td><td>33                  </td></tr>\n",
       "\t<tr><td>Nevada              </td><td>NV                  </td><td>West                </td><td> 2700551            </td><td>  84                </td><td> 3.1104763          </td><td>19                  </td></tr>\n",
       "\t<tr><td>New Hampshire       </td><td>NH                  </td><td>Northeast           </td><td> 1316470            </td><td>   5                </td><td> 0.3798036          </td><td>50                  </td></tr>\n",
       "\t<tr><td>New Jersey          </td><td>NJ                  </td><td>Northeast           </td><td> 8791894            </td><td> 246                </td><td> 2.7980319          </td><td>24                  </td></tr>\n",
       "\t<tr><td>New Mexico          </td><td>NM                  </td><td>West                </td><td> 2059179            </td><td>  67                </td><td> 3.2537239          </td><td>15                  </td></tr>\n",
       "\t<tr><td>New York            </td><td>NY                  </td><td>Northeast           </td><td>19378102            </td><td> 517                </td><td> 2.6679599          </td><td>29                  </td></tr>\n",
       "\t<tr><td>North Carolina      </td><td>NC                  </td><td>South               </td><td> 9535483            </td><td> 286                </td><td> 2.9993237          </td><td>20                  </td></tr>\n",
       "\t<tr><td>North Dakota        </td><td>ND                  </td><td>North Central       </td><td>  672591            </td><td>   4                </td><td> 0.5947151          </td><td>48                  </td></tr>\n",
       "\t<tr><td>Ohio                </td><td>OH                  </td><td>North Central       </td><td>11536504            </td><td> 310                </td><td> 2.6871225          </td><td>26                  </td></tr>\n",
       "\t<tr><td>Oklahoma            </td><td>OK                  </td><td>South               </td><td> 3751351            </td><td> 111                </td><td> 2.9589340          </td><td>21                  </td></tr>\n",
       "\t<tr><td>Oregon              </td><td>OR                  </td><td>West                </td><td> 3831074            </td><td>  36                </td><td> 0.9396843          </td><td>42                  </td></tr>\n",
       "\t<tr><td>Pennsylvania        </td><td>PA                  </td><td>Northeast           </td><td>12702379            </td><td> 457                </td><td> 3.5977513          </td><td>11                  </td></tr>\n",
       "\t<tr><td>Rhode Island        </td><td>RI                  </td><td>Northeast           </td><td> 1052567            </td><td>  16                </td><td> 1.5200933          </td><td>35                  </td></tr>\n",
       "\t<tr><td>South Carolina      </td><td>SC                  </td><td>South               </td><td> 4625364            </td><td> 207                </td><td> 4.4753235          </td><td> 5                  </td></tr>\n",
       "\t<tr><td>South Dakota        </td><td>SD                  </td><td>North Central       </td><td>  814180            </td><td>   8                </td><td> 0.9825837          </td><td>41                  </td></tr>\n",
       "\t<tr><td>Tennessee           </td><td>TN                  </td><td>South               </td><td> 6346105            </td><td> 219                </td><td> 3.4509357          </td><td>12                  </td></tr>\n",
       "\t<tr><td>Texas               </td><td>TX                  </td><td>South               </td><td>25145561            </td><td> 805                </td><td> 3.2013603          </td><td>16                  </td></tr>\n",
       "\t<tr><td>Utah                </td><td>UT                  </td><td>West                </td><td> 2763885            </td><td>  22                </td><td> 0.7959810          </td><td>45                  </td></tr>\n",
       "\t<tr><td>Vermont             </td><td>VT                  </td><td>Northeast           </td><td>  625741            </td><td>   2                </td><td> 0.3196211          </td><td>51                  </td></tr>\n",
       "\t<tr><td>Virginia            </td><td>VA                  </td><td>South               </td><td> 8001024            </td><td> 250                </td><td> 3.1246001          </td><td>18                  </td></tr>\n",
       "\t<tr><td>Washington          </td><td>WA                  </td><td>West                </td><td> 6724540            </td><td>  93                </td><td> 1.3829942          </td><td>37                  </td></tr>\n",
       "\t<tr><td>West Virginia       </td><td>WV                  </td><td>South               </td><td> 1852994            </td><td>  27                </td><td> 1.4571013          </td><td>36                  </td></tr>\n",
       "\t<tr><td>Wisconsin           </td><td>WI                  </td><td>North Central       </td><td> 5686986            </td><td>  97                </td><td> 1.7056487          </td><td>34                  </td></tr>\n",
       "\t<tr><td>Wyoming             </td><td>WY                  </td><td>West                </td><td>  563626            </td><td>   5                </td><td> 0.8871131          </td><td>43                  </td></tr>\n",
       "</tbody>\n",
       "</table>\n"
      ],
      "text/latex": [
       "\\begin{tabular}{r|lllllll}\n",
       " state & abb & region & population & total & rate & rank\\\\\n",
       "\\hline\n",
       "\t Alabama              & AL                   & South                &  4779736             &  135                 &  2.8244238           & 23                  \\\\\n",
       "\t Alaska               & AK                   & West                 &   710231             &   19                 &  2.6751860           & 27                  \\\\\n",
       "\t Arizona              & AZ                   & West                 &  6392017             &  232                 &  3.6295273           & 10                  \\\\\n",
       "\t Arkansas             & AR                   & South                &  2915918             &   93                 &  3.1893901           & 17                  \\\\\n",
       "\t California           & CA                   & West                 & 37253956             & 1257                 &  3.3741383           & 14                  \\\\\n",
       "\t Colorado             & CO                   & West                 &  5029196             &   65                 &  1.2924531           & 38                  \\\\\n",
       "\t Connecticut          & CT                   & Northeast            &  3574097             &   97                 &  2.7139722           & 25                  \\\\\n",
       "\t Delaware             & DE                   & South                &   897934             &   38                 &  4.2319369           &  6                  \\\\\n",
       "\t District of Columbia & DC                   & South                &   601723             &   99                 & 16.4527532           &  1                  \\\\\n",
       "\t Florida              & FL                   & South                & 19687653             &  669                 &  3.3980688           & 13                  \\\\\n",
       "\t Georgia              & GA                   & South                &  9920000             &  376                 &  3.7903226           &  9                  \\\\\n",
       "\t Hawaii               & HI                   & West                 &  1360301             &    7                 &  0.5145920           & 49                  \\\\\n",
       "\t Idaho                & ID                   & West                 &  1567582             &   12                 &  0.7655102           & 46                  \\\\\n",
       "\t Illinois             & IL                   & North Central        & 12830632             &  364                 &  2.8369608           & 22                  \\\\\n",
       "\t Indiana              & IN                   & North Central        &  6483802             &  142                 &  2.1900730           & 31                  \\\\\n",
       "\t Iowa                 & IA                   & North Central        &  3046355             &   21                 &  0.6893484           & 47                  \\\\\n",
       "\t Kansas               & KS                   & North Central        &  2853118             &   63                 &  2.2081106           & 30                  \\\\\n",
       "\t Kentucky             & KY                   & South                &  4339367             &  116                 &  2.6732010           & 28                  \\\\\n",
       "\t Louisiana            & LA                   & South                &  4533372             &  351                 &  7.7425810           &  2                  \\\\\n",
       "\t Maine                & ME                   & Northeast            &  1328361             &   11                 &  0.8280881           & 44                  \\\\\n",
       "\t Maryland             & MD                   & South                &  5773552             &  293                 &  5.0748655           &  4                  \\\\\n",
       "\t Massachusetts        & MA                   & Northeast            &  6547629             &  118                 &  1.8021791           & 32                  \\\\\n",
       "\t Michigan             & MI                   & North Central        &  9883640             &  413                 &  4.1786225           &  7                  \\\\\n",
       "\t Minnesota            & MN                   & North Central        &  5303925             &   53                 &  0.9992600           & 40                  \\\\\n",
       "\t Mississippi          & MS                   & South                &  2967297             &  120                 &  4.0440846           &  8                  \\\\\n",
       "\t Missouri             & MO                   & North Central        &  5988927             &  321                 &  5.3598917           &  3                  \\\\\n",
       "\t Montana              & MT                   & West                 &   989415             &   12                 &  1.2128379           & 39                  \\\\\n",
       "\t Nebraska             & NE                   & North Central        &  1826341             &   32                 &  1.7521372           & 33                  \\\\\n",
       "\t Nevada               & NV                   & West                 &  2700551             &   84                 &  3.1104763           & 19                  \\\\\n",
       "\t New Hampshire        & NH                   & Northeast            &  1316470             &    5                 &  0.3798036           & 50                  \\\\\n",
       "\t New Jersey           & NJ                   & Northeast            &  8791894             &  246                 &  2.7980319           & 24                  \\\\\n",
       "\t New Mexico           & NM                   & West                 &  2059179             &   67                 &  3.2537239           & 15                  \\\\\n",
       "\t New York             & NY                   & Northeast            & 19378102             &  517                 &  2.6679599           & 29                  \\\\\n",
       "\t North Carolina       & NC                   & South                &  9535483             &  286                 &  2.9993237           & 20                  \\\\\n",
       "\t North Dakota         & ND                   & North Central        &   672591             &    4                 &  0.5947151           & 48                  \\\\\n",
       "\t Ohio                 & OH                   & North Central        & 11536504             &  310                 &  2.6871225           & 26                  \\\\\n",
       "\t Oklahoma             & OK                   & South                &  3751351             &  111                 &  2.9589340           & 21                  \\\\\n",
       "\t Oregon               & OR                   & West                 &  3831074             &   36                 &  0.9396843           & 42                  \\\\\n",
       "\t Pennsylvania         & PA                   & Northeast            & 12702379             &  457                 &  3.5977513           & 11                  \\\\\n",
       "\t Rhode Island         & RI                   & Northeast            &  1052567             &   16                 &  1.5200933           & 35                  \\\\\n",
       "\t South Carolina       & SC                   & South                &  4625364             &  207                 &  4.4753235           &  5                  \\\\\n",
       "\t South Dakota         & SD                   & North Central        &   814180             &    8                 &  0.9825837           & 41                  \\\\\n",
       "\t Tennessee            & TN                   & South                &  6346105             &  219                 &  3.4509357           & 12                  \\\\\n",
       "\t Texas                & TX                   & South                & 25145561             &  805                 &  3.2013603           & 16                  \\\\\n",
       "\t Utah                 & UT                   & West                 &  2763885             &   22                 &  0.7959810           & 45                  \\\\\n",
       "\t Vermont              & VT                   & Northeast            &   625741             &    2                 &  0.3196211           & 51                  \\\\\n",
       "\t Virginia             & VA                   & South                &  8001024             &  250                 &  3.1246001           & 18                  \\\\\n",
       "\t Washington           & WA                   & West                 &  6724540             &   93                 &  1.3829942           & 37                  \\\\\n",
       "\t West Virginia        & WV                   & South                &  1852994             &   27                 &  1.4571013           & 36                  \\\\\n",
       "\t Wisconsin            & WI                   & North Central        &  5686986             &   97                 &  1.7056487           & 34                  \\\\\n",
       "\t Wyoming              & WY                   & West                 &   563626             &    5                 &  0.8871131           & 43                  \\\\\n",
       "\\end{tabular}\n"
      ],
      "text/markdown": [
       "\n",
       "state | abb | region | population | total | rate | rank | \n",
       "|---|---|---|---|---|---|---|---|---|---|---|---|---|---|---|---|---|---|---|---|---|---|---|---|---|---|---|---|---|---|---|---|---|---|---|---|---|---|---|---|---|---|---|---|---|---|---|---|---|---|---|\n",
       "| Alabama              | AL                   | South                |  4779736             |  135                 |  2.8244238           | 23                   | \n",
       "| Alaska               | AK                   | West                 |   710231             |   19                 |  2.6751860           | 27                   | \n",
       "| Arizona              | AZ                   | West                 |  6392017             |  232                 |  3.6295273           | 10                   | \n",
       "| Arkansas             | AR                   | South                |  2915918             |   93                 |  3.1893901           | 17                   | \n",
       "| California           | CA                   | West                 | 37253956             | 1257                 |  3.3741383           | 14                   | \n",
       "| Colorado             | CO                   | West                 |  5029196             |   65                 |  1.2924531           | 38                   | \n",
       "| Connecticut          | CT                   | Northeast            |  3574097             |   97                 |  2.7139722           | 25                   | \n",
       "| Delaware             | DE                   | South                |   897934             |   38                 |  4.2319369           |  6                   | \n",
       "| District of Columbia | DC                   | South                |   601723             |   99                 | 16.4527532           |  1                   | \n",
       "| Florida              | FL                   | South                | 19687653             |  669                 |  3.3980688           | 13                   | \n",
       "| Georgia              | GA                   | South                |  9920000             |  376                 |  3.7903226           |  9                   | \n",
       "| Hawaii               | HI                   | West                 |  1360301             |    7                 |  0.5145920           | 49                   | \n",
       "| Idaho                | ID                   | West                 |  1567582             |   12                 |  0.7655102           | 46                   | \n",
       "| Illinois             | IL                   | North Central        | 12830632             |  364                 |  2.8369608           | 22                   | \n",
       "| Indiana              | IN                   | North Central        |  6483802             |  142                 |  2.1900730           | 31                   | \n",
       "| Iowa                 | IA                   | North Central        |  3046355             |   21                 |  0.6893484           | 47                   | \n",
       "| Kansas               | KS                   | North Central        |  2853118             |   63                 |  2.2081106           | 30                   | \n",
       "| Kentucky             | KY                   | South                |  4339367             |  116                 |  2.6732010           | 28                   | \n",
       "| Louisiana            | LA                   | South                |  4533372             |  351                 |  7.7425810           |  2                   | \n",
       "| Maine                | ME                   | Northeast            |  1328361             |   11                 |  0.8280881           | 44                   | \n",
       "| Maryland             | MD                   | South                |  5773552             |  293                 |  5.0748655           |  4                   | \n",
       "| Massachusetts        | MA                   | Northeast            |  6547629             |  118                 |  1.8021791           | 32                   | \n",
       "| Michigan             | MI                   | North Central        |  9883640             |  413                 |  4.1786225           |  7                   | \n",
       "| Minnesota            | MN                   | North Central        |  5303925             |   53                 |  0.9992600           | 40                   | \n",
       "| Mississippi          | MS                   | South                |  2967297             |  120                 |  4.0440846           |  8                   | \n",
       "| Missouri             | MO                   | North Central        |  5988927             |  321                 |  5.3598917           |  3                   | \n",
       "| Montana              | MT                   | West                 |   989415             |   12                 |  1.2128379           | 39                   | \n",
       "| Nebraska             | NE                   | North Central        |  1826341             |   32                 |  1.7521372           | 33                   | \n",
       "| Nevada               | NV                   | West                 |  2700551             |   84                 |  3.1104763           | 19                   | \n",
       "| New Hampshire        | NH                   | Northeast            |  1316470             |    5                 |  0.3798036           | 50                   | \n",
       "| New Jersey           | NJ                   | Northeast            |  8791894             |  246                 |  2.7980319           | 24                   | \n",
       "| New Mexico           | NM                   | West                 |  2059179             |   67                 |  3.2537239           | 15                   | \n",
       "| New York             | NY                   | Northeast            | 19378102             |  517                 |  2.6679599           | 29                   | \n",
       "| North Carolina       | NC                   | South                |  9535483             |  286                 |  2.9993237           | 20                   | \n",
       "| North Dakota         | ND                   | North Central        |   672591             |    4                 |  0.5947151           | 48                   | \n",
       "| Ohio                 | OH                   | North Central        | 11536504             |  310                 |  2.6871225           | 26                   | \n",
       "| Oklahoma             | OK                   | South                |  3751351             |  111                 |  2.9589340           | 21                   | \n",
       "| Oregon               | OR                   | West                 |  3831074             |   36                 |  0.9396843           | 42                   | \n",
       "| Pennsylvania         | PA                   | Northeast            | 12702379             |  457                 |  3.5977513           | 11                   | \n",
       "| Rhode Island         | RI                   | Northeast            |  1052567             |   16                 |  1.5200933           | 35                   | \n",
       "| South Carolina       | SC                   | South                |  4625364             |  207                 |  4.4753235           |  5                   | \n",
       "| South Dakota         | SD                   | North Central        |   814180             |    8                 |  0.9825837           | 41                   | \n",
       "| Tennessee            | TN                   | South                |  6346105             |  219                 |  3.4509357           | 12                   | \n",
       "| Texas                | TX                   | South                | 25145561             |  805                 |  3.2013603           | 16                   | \n",
       "| Utah                 | UT                   | West                 |  2763885             |   22                 |  0.7959810           | 45                   | \n",
       "| Vermont              | VT                   | Northeast            |   625741             |    2                 |  0.3196211           | 51                   | \n",
       "| Virginia             | VA                   | South                |  8001024             |  250                 |  3.1246001           | 18                   | \n",
       "| Washington           | WA                   | West                 |  6724540             |   93                 |  1.3829942           | 37                   | \n",
       "| West Virginia        | WV                   | South                |  1852994             |   27                 |  1.4571013           | 36                   | \n",
       "| Wisconsin            | WI                   | North Central        |  5686986             |   97                 |  1.7056487           | 34                   | \n",
       "| Wyoming              | WY                   | West                 |   563626             |    5                 |  0.8871131           | 43                   | \n",
       "\n",
       "\n"
      ],
      "text/plain": [
       "   state                abb region        population total rate       rank\n",
       "1  Alabama              AL  South          4779736    135   2.8244238 23  \n",
       "2  Alaska               AK  West            710231     19   2.6751860 27  \n",
       "3  Arizona              AZ  West           6392017    232   3.6295273 10  \n",
       "4  Arkansas             AR  South          2915918     93   3.1893901 17  \n",
       "5  California           CA  West          37253956   1257   3.3741383 14  \n",
       "6  Colorado             CO  West           5029196     65   1.2924531 38  \n",
       "7  Connecticut          CT  Northeast      3574097     97   2.7139722 25  \n",
       "8  Delaware             DE  South           897934     38   4.2319369  6  \n",
       "9  District of Columbia DC  South           601723     99  16.4527532  1  \n",
       "10 Florida              FL  South         19687653    669   3.3980688 13  \n",
       "11 Georgia              GA  South          9920000    376   3.7903226  9  \n",
       "12 Hawaii               HI  West           1360301      7   0.5145920 49  \n",
       "13 Idaho                ID  West           1567582     12   0.7655102 46  \n",
       "14 Illinois             IL  North Central 12830632    364   2.8369608 22  \n",
       "15 Indiana              IN  North Central  6483802    142   2.1900730 31  \n",
       "16 Iowa                 IA  North Central  3046355     21   0.6893484 47  \n",
       "17 Kansas               KS  North Central  2853118     63   2.2081106 30  \n",
       "18 Kentucky             KY  South          4339367    116   2.6732010 28  \n",
       "19 Louisiana            LA  South          4533372    351   7.7425810  2  \n",
       "20 Maine                ME  Northeast      1328361     11   0.8280881 44  \n",
       "21 Maryland             MD  South          5773552    293   5.0748655  4  \n",
       "22 Massachusetts        MA  Northeast      6547629    118   1.8021791 32  \n",
       "23 Michigan             MI  North Central  9883640    413   4.1786225  7  \n",
       "24 Minnesota            MN  North Central  5303925     53   0.9992600 40  \n",
       "25 Mississippi          MS  South          2967297    120   4.0440846  8  \n",
       "26 Missouri             MO  North Central  5988927    321   5.3598917  3  \n",
       "27 Montana              MT  West            989415     12   1.2128379 39  \n",
       "28 Nebraska             NE  North Central  1826341     32   1.7521372 33  \n",
       "29 Nevada               NV  West           2700551     84   3.1104763 19  \n",
       "30 New Hampshire        NH  Northeast      1316470      5   0.3798036 50  \n",
       "31 New Jersey           NJ  Northeast      8791894    246   2.7980319 24  \n",
       "32 New Mexico           NM  West           2059179     67   3.2537239 15  \n",
       "33 New York             NY  Northeast     19378102    517   2.6679599 29  \n",
       "34 North Carolina       NC  South          9535483    286   2.9993237 20  \n",
       "35 North Dakota         ND  North Central   672591      4   0.5947151 48  \n",
       "36 Ohio                 OH  North Central 11536504    310   2.6871225 26  \n",
       "37 Oklahoma             OK  South          3751351    111   2.9589340 21  \n",
       "38 Oregon               OR  West           3831074     36   0.9396843 42  \n",
       "39 Pennsylvania         PA  Northeast     12702379    457   3.5977513 11  \n",
       "40 Rhode Island         RI  Northeast      1052567     16   1.5200933 35  \n",
       "41 South Carolina       SC  South          4625364    207   4.4753235  5  \n",
       "42 South Dakota         SD  North Central   814180      8   0.9825837 41  \n",
       "43 Tennessee            TN  South          6346105    219   3.4509357 12  \n",
       "44 Texas                TX  South         25145561    805   3.2013603 16  \n",
       "45 Utah                 UT  West           2763885     22   0.7959810 45  \n",
       "46 Vermont              VT  Northeast       625741      2   0.3196211 51  \n",
       "47 Virginia             VA  South          8001024    250   3.1246001 18  \n",
       "48 Washington           WA  West           6724540     93   1.3829942 37  \n",
       "49 West Virginia        WV  South          1852994     27   1.4571013 36  \n",
       "50 Wisconsin            WI  North Central  5686986     97   1.7056487 34  \n",
       "51 Wyoming              WY  West            563626      5   0.8871131 43  "
      ]
     },
     "metadata": {},
     "output_type": "display_data"
    }
   ],
   "source": [
    "# Note that if you want ranks from highest to lowest you can take the negative and ten compute the ranks \n",
    "x <- c(88, 100, 83, 92, 94)\n",
    "rank(-x)\n",
    "\n",
    "# Defining rate\n",
    "rate <-  murders$total/ murders$population * 100000\n",
    "\n",
    "# Redefine murders to include a column named rank\n",
    "# with the ranks of rate from highest to lowest\n",
    "murders <- mutate(murders, rank = rank(-rate))\n",
    "murders"
   ]
  },
  {
   "cell_type": "code",
   "execution_count": 51,
   "metadata": {},
   "outputs": [
    {
     "data": {
      "text/html": [
       "<table>\n",
       "<thead><tr><th scope=col>state</th><th scope=col>abb</th><th scope=col>region</th><th scope=col>population</th><th scope=col>total</th><th scope=col>rate</th><th scope=col>rank</th></tr></thead>\n",
       "<tbody>\n",
       "\t<tr><td>Alabama             </td><td>AL                  </td><td>South               </td><td> 4779736            </td><td> 135                </td><td> 2.8244238          </td><td>23                  </td></tr>\n",
       "\t<tr><td>Alaska              </td><td>AK                  </td><td>West                </td><td>  710231            </td><td>  19                </td><td> 2.6751860          </td><td>27                  </td></tr>\n",
       "\t<tr><td>Arizona             </td><td>AZ                  </td><td>West                </td><td> 6392017            </td><td> 232                </td><td> 3.6295273          </td><td>10                  </td></tr>\n",
       "\t<tr><td>Arkansas            </td><td>AR                  </td><td>South               </td><td> 2915918            </td><td>  93                </td><td> 3.1893901          </td><td>17                  </td></tr>\n",
       "\t<tr><td>California          </td><td>CA                  </td><td>West                </td><td>37253956            </td><td>1257                </td><td> 3.3741383          </td><td>14                  </td></tr>\n",
       "\t<tr><td>Colorado            </td><td>CO                  </td><td>West                </td><td> 5029196            </td><td>  65                </td><td> 1.2924531          </td><td>38                  </td></tr>\n",
       "\t<tr><td>Delaware            </td><td>DE                  </td><td>South               </td><td>  897934            </td><td>  38                </td><td> 4.2319369          </td><td> 6                  </td></tr>\n",
       "\t<tr><td>District of Columbia</td><td>DC                  </td><td>South               </td><td>  601723            </td><td>  99                </td><td>16.4527532          </td><td> 1                  </td></tr>\n",
       "\t<tr><td>Florida             </td><td>FL                  </td><td>South               </td><td>19687653            </td><td> 669                </td><td> 3.3980688          </td><td>13                  </td></tr>\n",
       "\t<tr><td>Georgia             </td><td>GA                  </td><td>South               </td><td> 9920000            </td><td> 376                </td><td> 3.7903226          </td><td> 9                  </td></tr>\n",
       "\t<tr><td>Hawaii              </td><td>HI                  </td><td>West                </td><td> 1360301            </td><td>   7                </td><td> 0.5145920          </td><td>49                  </td></tr>\n",
       "\t<tr><td>Idaho               </td><td>ID                  </td><td>West                </td><td> 1567582            </td><td>  12                </td><td> 0.7655102          </td><td>46                  </td></tr>\n",
       "\t<tr><td>Kentucky            </td><td>KY                  </td><td>South               </td><td> 4339367            </td><td> 116                </td><td> 2.6732010          </td><td>28                  </td></tr>\n",
       "\t<tr><td>Louisiana           </td><td>LA                  </td><td>South               </td><td> 4533372            </td><td> 351                </td><td> 7.7425810          </td><td> 2                  </td></tr>\n",
       "\t<tr><td>Maryland            </td><td>MD                  </td><td>South               </td><td> 5773552            </td><td> 293                </td><td> 5.0748655          </td><td> 4                  </td></tr>\n",
       "\t<tr><td>Mississippi         </td><td>MS                  </td><td>South               </td><td> 2967297            </td><td> 120                </td><td> 4.0440846          </td><td> 8                  </td></tr>\n",
       "\t<tr><td>Montana             </td><td>MT                  </td><td>West                </td><td>  989415            </td><td>  12                </td><td> 1.2128379          </td><td>39                  </td></tr>\n",
       "\t<tr><td>Nevada              </td><td>NV                  </td><td>West                </td><td> 2700551            </td><td>  84                </td><td> 3.1104763          </td><td>19                  </td></tr>\n",
       "\t<tr><td>New Mexico          </td><td>NM                  </td><td>West                </td><td> 2059179            </td><td>  67                </td><td> 3.2537239          </td><td>15                  </td></tr>\n",
       "\t<tr><td>North Carolina      </td><td>NC                  </td><td>South               </td><td> 9535483            </td><td> 286                </td><td> 2.9993237          </td><td>20                  </td></tr>\n",
       "\t<tr><td>Oklahoma            </td><td>OK                  </td><td>South               </td><td> 3751351            </td><td> 111                </td><td> 2.9589340          </td><td>21                  </td></tr>\n",
       "\t<tr><td>Oregon              </td><td>OR                  </td><td>West                </td><td> 3831074            </td><td>  36                </td><td> 0.9396843          </td><td>42                  </td></tr>\n",
       "\t<tr><td>South Carolina      </td><td>SC                  </td><td>South               </td><td> 4625364            </td><td> 207                </td><td> 4.4753235          </td><td> 5                  </td></tr>\n",
       "\t<tr><td>Tennessee           </td><td>TN                  </td><td>South               </td><td> 6346105            </td><td> 219                </td><td> 3.4509357          </td><td>12                  </td></tr>\n",
       "\t<tr><td>Texas               </td><td>TX                  </td><td>South               </td><td>25145561            </td><td> 805                </td><td> 3.2013603          </td><td>16                  </td></tr>\n",
       "\t<tr><td>Utah                </td><td>UT                  </td><td>West                </td><td> 2763885            </td><td>  22                </td><td> 0.7959810          </td><td>45                  </td></tr>\n",
       "\t<tr><td>Virginia            </td><td>VA                  </td><td>South               </td><td> 8001024            </td><td> 250                </td><td> 3.1246001          </td><td>18                  </td></tr>\n",
       "\t<tr><td>Washington          </td><td>WA                  </td><td>West                </td><td> 6724540            </td><td>  93                </td><td> 1.3829942          </td><td>37                  </td></tr>\n",
       "\t<tr><td>West Virginia       </td><td>WV                  </td><td>South               </td><td> 1852994            </td><td>  27                </td><td> 1.4571013          </td><td>36                  </td></tr>\n",
       "\t<tr><td>Wyoming             </td><td>WY                  </td><td>West                </td><td>  563626            </td><td>   5                </td><td> 0.8871131          </td><td>43                  </td></tr>\n",
       "</tbody>\n",
       "</table>\n"
      ],
      "text/latex": [
       "\\begin{tabular}{r|lllllll}\n",
       " state & abb & region & population & total & rate & rank\\\\\n",
       "\\hline\n",
       "\t Alabama              & AL                   & South                &  4779736             &  135                 &  2.8244238           & 23                  \\\\\n",
       "\t Alaska               & AK                   & West                 &   710231             &   19                 &  2.6751860           & 27                  \\\\\n",
       "\t Arizona              & AZ                   & West                 &  6392017             &  232                 &  3.6295273           & 10                  \\\\\n",
       "\t Arkansas             & AR                   & South                &  2915918             &   93                 &  3.1893901           & 17                  \\\\\n",
       "\t California           & CA                   & West                 & 37253956             & 1257                 &  3.3741383           & 14                  \\\\\n",
       "\t Colorado             & CO                   & West                 &  5029196             &   65                 &  1.2924531           & 38                  \\\\\n",
       "\t Delaware             & DE                   & South                &   897934             &   38                 &  4.2319369           &  6                  \\\\\n",
       "\t District of Columbia & DC                   & South                &   601723             &   99                 & 16.4527532           &  1                  \\\\\n",
       "\t Florida              & FL                   & South                & 19687653             &  669                 &  3.3980688           & 13                  \\\\\n",
       "\t Georgia              & GA                   & South                &  9920000             &  376                 &  3.7903226           &  9                  \\\\\n",
       "\t Hawaii               & HI                   & West                 &  1360301             &    7                 &  0.5145920           & 49                  \\\\\n",
       "\t Idaho                & ID                   & West                 &  1567582             &   12                 &  0.7655102           & 46                  \\\\\n",
       "\t Kentucky             & KY                   & South                &  4339367             &  116                 &  2.6732010           & 28                  \\\\\n",
       "\t Louisiana            & LA                   & South                &  4533372             &  351                 &  7.7425810           &  2                  \\\\\n",
       "\t Maryland             & MD                   & South                &  5773552             &  293                 &  5.0748655           &  4                  \\\\\n",
       "\t Mississippi          & MS                   & South                &  2967297             &  120                 &  4.0440846           &  8                  \\\\\n",
       "\t Montana              & MT                   & West                 &   989415             &   12                 &  1.2128379           & 39                  \\\\\n",
       "\t Nevada               & NV                   & West                 &  2700551             &   84                 &  3.1104763           & 19                  \\\\\n",
       "\t New Mexico           & NM                   & West                 &  2059179             &   67                 &  3.2537239           & 15                  \\\\\n",
       "\t North Carolina       & NC                   & South                &  9535483             &  286                 &  2.9993237           & 20                  \\\\\n",
       "\t Oklahoma             & OK                   & South                &  3751351             &  111                 &  2.9589340           & 21                  \\\\\n",
       "\t Oregon               & OR                   & West                 &  3831074             &   36                 &  0.9396843           & 42                  \\\\\n",
       "\t South Carolina       & SC                   & South                &  4625364             &  207                 &  4.4753235           &  5                  \\\\\n",
       "\t Tennessee            & TN                   & South                &  6346105             &  219                 &  3.4509357           & 12                  \\\\\n",
       "\t Texas                & TX                   & South                & 25145561             &  805                 &  3.2013603           & 16                  \\\\\n",
       "\t Utah                 & UT                   & West                 &  2763885             &   22                 &  0.7959810           & 45                  \\\\\n",
       "\t Virginia             & VA                   & South                &  8001024             &  250                 &  3.1246001           & 18                  \\\\\n",
       "\t Washington           & WA                   & West                 &  6724540             &   93                 &  1.3829942           & 37                  \\\\\n",
       "\t West Virginia        & WV                   & South                &  1852994             &   27                 &  1.4571013           & 36                  \\\\\n",
       "\t Wyoming              & WY                   & West                 &   563626             &    5                 &  0.8871131           & 43                  \\\\\n",
       "\\end{tabular}\n"
      ],
      "text/markdown": [
       "\n",
       "state | abb | region | population | total | rate | rank | \n",
       "|---|---|---|---|---|---|---|---|---|---|---|---|---|---|---|---|---|---|---|---|---|---|---|---|---|---|---|---|---|---|\n",
       "| Alabama              | AL                   | South                |  4779736             |  135                 |  2.8244238           | 23                   | \n",
       "| Alaska               | AK                   | West                 |   710231             |   19                 |  2.6751860           | 27                   | \n",
       "| Arizona              | AZ                   | West                 |  6392017             |  232                 |  3.6295273           | 10                   | \n",
       "| Arkansas             | AR                   | South                |  2915918             |   93                 |  3.1893901           | 17                   | \n",
       "| California           | CA                   | West                 | 37253956             | 1257                 |  3.3741383           | 14                   | \n",
       "| Colorado             | CO                   | West                 |  5029196             |   65                 |  1.2924531           | 38                   | \n",
       "| Delaware             | DE                   | South                |   897934             |   38                 |  4.2319369           |  6                   | \n",
       "| District of Columbia | DC                   | South                |   601723             |   99                 | 16.4527532           |  1                   | \n",
       "| Florida              | FL                   | South                | 19687653             |  669                 |  3.3980688           | 13                   | \n",
       "| Georgia              | GA                   | South                |  9920000             |  376                 |  3.7903226           |  9                   | \n",
       "| Hawaii               | HI                   | West                 |  1360301             |    7                 |  0.5145920           | 49                   | \n",
       "| Idaho                | ID                   | West                 |  1567582             |   12                 |  0.7655102           | 46                   | \n",
       "| Kentucky             | KY                   | South                |  4339367             |  116                 |  2.6732010           | 28                   | \n",
       "| Louisiana            | LA                   | South                |  4533372             |  351                 |  7.7425810           |  2                   | \n",
       "| Maryland             | MD                   | South                |  5773552             |  293                 |  5.0748655           |  4                   | \n",
       "| Mississippi          | MS                   | South                |  2967297             |  120                 |  4.0440846           |  8                   | \n",
       "| Montana              | MT                   | West                 |   989415             |   12                 |  1.2128379           | 39                   | \n",
       "| Nevada               | NV                   | West                 |  2700551             |   84                 |  3.1104763           | 19                   | \n",
       "| New Mexico           | NM                   | West                 |  2059179             |   67                 |  3.2537239           | 15                   | \n",
       "| North Carolina       | NC                   | South                |  9535483             |  286                 |  2.9993237           | 20                   | \n",
       "| Oklahoma             | OK                   | South                |  3751351             |  111                 |  2.9589340           | 21                   | \n",
       "| Oregon               | OR                   | West                 |  3831074             |   36                 |  0.9396843           | 42                   | \n",
       "| South Carolina       | SC                   | South                |  4625364             |  207                 |  4.4753235           |  5                   | \n",
       "| Tennessee            | TN                   | South                |  6346105             |  219                 |  3.4509357           | 12                   | \n",
       "| Texas                | TX                   | South                | 25145561             |  805                 |  3.2013603           | 16                   | \n",
       "| Utah                 | UT                   | West                 |  2763885             |   22                 |  0.7959810           | 45                   | \n",
       "| Virginia             | VA                   | South                |  8001024             |  250                 |  3.1246001           | 18                   | \n",
       "| Washington           | WA                   | West                 |  6724540             |   93                 |  1.3829942           | 37                   | \n",
       "| West Virginia        | WV                   | South                |  1852994             |   27                 |  1.4571013           | 36                   | \n",
       "| Wyoming              | WY                   | West                 |   563626             |    5                 |  0.8871131           | 43                   | \n",
       "\n",
       "\n"
      ],
      "text/plain": [
       "   state                abb region population total rate       rank\n",
       "1  Alabama              AL  South   4779736    135   2.8244238 23  \n",
       "2  Alaska               AK  West     710231     19   2.6751860 27  \n",
       "3  Arizona              AZ  West    6392017    232   3.6295273 10  \n",
       "4  Arkansas             AR  South   2915918     93   3.1893901 17  \n",
       "5  California           CA  West   37253956   1257   3.3741383 14  \n",
       "6  Colorado             CO  West    5029196     65   1.2924531 38  \n",
       "7  Delaware             DE  South    897934     38   4.2319369  6  \n",
       "8  District of Columbia DC  South    601723     99  16.4527532  1  \n",
       "9  Florida              FL  South  19687653    669   3.3980688 13  \n",
       "10 Georgia              GA  South   9920000    376   3.7903226  9  \n",
       "11 Hawaii               HI  West    1360301      7   0.5145920 49  \n",
       "12 Idaho                ID  West    1567582     12   0.7655102 46  \n",
       "13 Kentucky             KY  South   4339367    116   2.6732010 28  \n",
       "14 Louisiana            LA  South   4533372    351   7.7425810  2  \n",
       "15 Maryland             MD  South   5773552    293   5.0748655  4  \n",
       "16 Mississippi          MS  South   2967297    120   4.0440846  8  \n",
       "17 Montana              MT  West     989415     12   1.2128379 39  \n",
       "18 Nevada               NV  West    2700551     84   3.1104763 19  \n",
       "19 New Mexico           NM  West    2059179     67   3.2537239 15  \n",
       "20 North Carolina       NC  South   9535483    286   2.9993237 20  \n",
       "21 Oklahoma             OK  South   3751351    111   2.9589340 21  \n",
       "22 Oregon               OR  West    3831074     36   0.9396843 42  \n",
       "23 South Carolina       SC  South   4625364    207   4.4753235  5  \n",
       "24 Tennessee            TN  South   6346105    219   3.4509357 12  \n",
       "25 Texas                TX  South  25145561    805   3.2013603 16  \n",
       "26 Utah                 UT  West    2763885     22   0.7959810 45  \n",
       "27 Virginia             VA  South   8001024    250   3.1246001 18  \n",
       "28 Washington           WA  West    6724540     93   1.3829942 37  \n",
       "29 West Virginia        WV  South   1852994     27   1.4571013 36  \n",
       "30 Wyoming              WY  West     563626      5   0.8871131 43  "
      ]
     },
     "metadata": {},
     "output_type": "display_data"
    }
   ],
   "source": [
    "filter(murders, region %in% c(\"West\", \"South\"))\n"
   ]
  },
  {
   "cell_type": "code",
   "execution_count": 39,
   "metadata": {},
   "outputs": [
    {
     "data": {
      "text/html": [
       "<table>\n",
       "<thead><tr><th scope=col>state</th><th scope=col>rank</th></tr></thead>\n",
       "<tbody>\n",
       "\t<tr><td>Alabama             </td><td>23                  </td></tr>\n",
       "\t<tr><td>Alaska              </td><td>27                  </td></tr>\n",
       "\t<tr><td>Arizona             </td><td>10                  </td></tr>\n",
       "\t<tr><td>Arkansas            </td><td>17                  </td></tr>\n",
       "\t<tr><td>California          </td><td>14                  </td></tr>\n",
       "\t<tr><td>Colorado            </td><td>38                  </td></tr>\n",
       "\t<tr><td>Connecticut         </td><td>25                  </td></tr>\n",
       "\t<tr><td>Delaware            </td><td> 6                  </td></tr>\n",
       "\t<tr><td>District of Columbia</td><td> 1                  </td></tr>\n",
       "\t<tr><td>Florida             </td><td>13                  </td></tr>\n",
       "\t<tr><td>Georgia             </td><td> 9                  </td></tr>\n",
       "\t<tr><td>Hawaii              </td><td>49                  </td></tr>\n",
       "\t<tr><td>Idaho               </td><td>46                  </td></tr>\n",
       "\t<tr><td>Illinois            </td><td>22                  </td></tr>\n",
       "\t<tr><td>Indiana             </td><td>31                  </td></tr>\n",
       "\t<tr><td>Iowa                </td><td>47                  </td></tr>\n",
       "\t<tr><td>Kansas              </td><td>30                  </td></tr>\n",
       "\t<tr><td>Kentucky            </td><td>28                  </td></tr>\n",
       "\t<tr><td>Louisiana           </td><td> 2                  </td></tr>\n",
       "\t<tr><td>Maine               </td><td>44                  </td></tr>\n",
       "\t<tr><td>Maryland            </td><td> 4                  </td></tr>\n",
       "\t<tr><td>Massachusetts       </td><td>32                  </td></tr>\n",
       "\t<tr><td>Michigan            </td><td> 7                  </td></tr>\n",
       "\t<tr><td>Minnesota           </td><td>40                  </td></tr>\n",
       "\t<tr><td>Mississippi         </td><td> 8                  </td></tr>\n",
       "\t<tr><td>Missouri            </td><td> 3                  </td></tr>\n",
       "\t<tr><td>Montana             </td><td>39                  </td></tr>\n",
       "\t<tr><td>Nebraska            </td><td>33                  </td></tr>\n",
       "\t<tr><td>Nevada              </td><td>19                  </td></tr>\n",
       "\t<tr><td>New Hampshire       </td><td>50                  </td></tr>\n",
       "\t<tr><td>New Jersey          </td><td>24                  </td></tr>\n",
       "\t<tr><td>New Mexico          </td><td>15                  </td></tr>\n",
       "\t<tr><td>New York            </td><td>29                  </td></tr>\n",
       "\t<tr><td>North Carolina      </td><td>20                  </td></tr>\n",
       "\t<tr><td>North Dakota        </td><td>48                  </td></tr>\n",
       "\t<tr><td>Ohio                </td><td>26                  </td></tr>\n",
       "\t<tr><td>Oklahoma            </td><td>21                  </td></tr>\n",
       "\t<tr><td>Oregon              </td><td>42                  </td></tr>\n",
       "\t<tr><td>Pennsylvania        </td><td>11                  </td></tr>\n",
       "\t<tr><td>Rhode Island        </td><td>35                  </td></tr>\n",
       "\t<tr><td>South Carolina      </td><td> 5                  </td></tr>\n",
       "\t<tr><td>South Dakota        </td><td>41                  </td></tr>\n",
       "\t<tr><td>Tennessee           </td><td>12                  </td></tr>\n",
       "\t<tr><td>Texas               </td><td>16                  </td></tr>\n",
       "\t<tr><td>Utah                </td><td>45                  </td></tr>\n",
       "\t<tr><td>Vermont             </td><td>51                  </td></tr>\n",
       "\t<tr><td>Virginia            </td><td>18                  </td></tr>\n",
       "\t<tr><td>Washington          </td><td>37                  </td></tr>\n",
       "\t<tr><td>West Virginia       </td><td>36                  </td></tr>\n",
       "\t<tr><td>Wisconsin           </td><td>34                  </td></tr>\n",
       "\t<tr><td>Wyoming             </td><td>43                  </td></tr>\n",
       "</tbody>\n",
       "</table>\n"
      ],
      "text/latex": [
       "\\begin{tabular}{r|ll}\n",
       " state & rank\\\\\n",
       "\\hline\n",
       "\t Alabama              & 23                  \\\\\n",
       "\t Alaska               & 27                  \\\\\n",
       "\t Arizona              & 10                  \\\\\n",
       "\t Arkansas             & 17                  \\\\\n",
       "\t California           & 14                  \\\\\n",
       "\t Colorado             & 38                  \\\\\n",
       "\t Connecticut          & 25                  \\\\\n",
       "\t Delaware             &  6                  \\\\\n",
       "\t District of Columbia &  1                  \\\\\n",
       "\t Florida              & 13                  \\\\\n",
       "\t Georgia              &  9                  \\\\\n",
       "\t Hawaii               & 49                  \\\\\n",
       "\t Idaho                & 46                  \\\\\n",
       "\t Illinois             & 22                  \\\\\n",
       "\t Indiana              & 31                  \\\\\n",
       "\t Iowa                 & 47                  \\\\\n",
       "\t Kansas               & 30                  \\\\\n",
       "\t Kentucky             & 28                  \\\\\n",
       "\t Louisiana            &  2                  \\\\\n",
       "\t Maine                & 44                  \\\\\n",
       "\t Maryland             &  4                  \\\\\n",
       "\t Massachusetts        & 32                  \\\\\n",
       "\t Michigan             &  7                  \\\\\n",
       "\t Minnesota            & 40                  \\\\\n",
       "\t Mississippi          &  8                  \\\\\n",
       "\t Missouri             &  3                  \\\\\n",
       "\t Montana              & 39                  \\\\\n",
       "\t Nebraska             & 33                  \\\\\n",
       "\t Nevada               & 19                  \\\\\n",
       "\t New Hampshire        & 50                  \\\\\n",
       "\t New Jersey           & 24                  \\\\\n",
       "\t New Mexico           & 15                  \\\\\n",
       "\t New York             & 29                  \\\\\n",
       "\t North Carolina       & 20                  \\\\\n",
       "\t North Dakota         & 48                  \\\\\n",
       "\t Ohio                 & 26                  \\\\\n",
       "\t Oklahoma             & 21                  \\\\\n",
       "\t Oregon               & 42                  \\\\\n",
       "\t Pennsylvania         & 11                  \\\\\n",
       "\t Rhode Island         & 35                  \\\\\n",
       "\t South Carolina       &  5                  \\\\\n",
       "\t South Dakota         & 41                  \\\\\n",
       "\t Tennessee            & 12                  \\\\\n",
       "\t Texas                & 16                  \\\\\n",
       "\t Utah                 & 45                  \\\\\n",
       "\t Vermont              & 51                  \\\\\n",
       "\t Virginia             & 18                  \\\\\n",
       "\t Washington           & 37                  \\\\\n",
       "\t West Virginia        & 36                  \\\\\n",
       "\t Wisconsin            & 34                  \\\\\n",
       "\t Wyoming              & 43                  \\\\\n",
       "\\end{tabular}\n"
      ],
      "text/markdown": [
       "\n",
       "state | rank | \n",
       "|---|---|---|---|---|---|---|---|---|---|---|---|---|---|---|---|---|---|---|---|---|---|---|---|---|---|---|---|---|---|---|---|---|---|---|---|---|---|---|---|---|---|---|---|---|---|---|---|---|---|---|\n",
       "| Alabama              | 23                   | \n",
       "| Alaska               | 27                   | \n",
       "| Arizona              | 10                   | \n",
       "| Arkansas             | 17                   | \n",
       "| California           | 14                   | \n",
       "| Colorado             | 38                   | \n",
       "| Connecticut          | 25                   | \n",
       "| Delaware             |  6                   | \n",
       "| District of Columbia |  1                   | \n",
       "| Florida              | 13                   | \n",
       "| Georgia              |  9                   | \n",
       "| Hawaii               | 49                   | \n",
       "| Idaho                | 46                   | \n",
       "| Illinois             | 22                   | \n",
       "| Indiana              | 31                   | \n",
       "| Iowa                 | 47                   | \n",
       "| Kansas               | 30                   | \n",
       "| Kentucky             | 28                   | \n",
       "| Louisiana            |  2                   | \n",
       "| Maine                | 44                   | \n",
       "| Maryland             |  4                   | \n",
       "| Massachusetts        | 32                   | \n",
       "| Michigan             |  7                   | \n",
       "| Minnesota            | 40                   | \n",
       "| Mississippi          |  8                   | \n",
       "| Missouri             |  3                   | \n",
       "| Montana              | 39                   | \n",
       "| Nebraska             | 33                   | \n",
       "| Nevada               | 19                   | \n",
       "| New Hampshire        | 50                   | \n",
       "| New Jersey           | 24                   | \n",
       "| New Mexico           | 15                   | \n",
       "| New York             | 29                   | \n",
       "| North Carolina       | 20                   | \n",
       "| North Dakota         | 48                   | \n",
       "| Ohio                 | 26                   | \n",
       "| Oklahoma             | 21                   | \n",
       "| Oregon               | 42                   | \n",
       "| Pennsylvania         | 11                   | \n",
       "| Rhode Island         | 35                   | \n",
       "| South Carolina       |  5                   | \n",
       "| South Dakota         | 41                   | \n",
       "| Tennessee            | 12                   | \n",
       "| Texas                | 16                   | \n",
       "| Utah                 | 45                   | \n",
       "| Vermont              | 51                   | \n",
       "| Virginia             | 18                   | \n",
       "| Washington           | 37                   | \n",
       "| West Virginia        | 36                   | \n",
       "| Wisconsin            | 34                   | \n",
       "| Wyoming              | 43                   | \n",
       "\n",
       "\n"
      ],
      "text/plain": [
       "   state                rank\n",
       "1  Alabama              23  \n",
       "2  Alaska               27  \n",
       "3  Arizona              10  \n",
       "4  Arkansas             17  \n",
       "5  California           14  \n",
       "6  Colorado             38  \n",
       "7  Connecticut          25  \n",
       "8  Delaware              6  \n",
       "9  District of Columbia  1  \n",
       "10 Florida              13  \n",
       "11 Georgia               9  \n",
       "12 Hawaii               49  \n",
       "13 Idaho                46  \n",
       "14 Illinois             22  \n",
       "15 Indiana              31  \n",
       "16 Iowa                 47  \n",
       "17 Kansas               30  \n",
       "18 Kentucky             28  \n",
       "19 Louisiana             2  \n",
       "20 Maine                44  \n",
       "21 Maryland              4  \n",
       "22 Massachusetts        32  \n",
       "23 Michigan              7  \n",
       "24 Minnesota            40  \n",
       "25 Mississippi           8  \n",
       "26 Missouri              3  \n",
       "27 Montana              39  \n",
       "28 Nebraska             33  \n",
       "29 Nevada               19  \n",
       "30 New Hampshire        50  \n",
       "31 New Jersey           24  \n",
       "32 New Mexico           15  \n",
       "33 New York             29  \n",
       "34 North Carolina       20  \n",
       "35 North Dakota         48  \n",
       "36 Ohio                 26  \n",
       "37 Oklahoma             21  \n",
       "38 Oregon               42  \n",
       "39 Pennsylvania         11  \n",
       "40 Rhode Island         35  \n",
       "41 South Carolina        5  \n",
       "42 South Dakota         41  \n",
       "43 Tennessee            12  \n",
       "44 Texas                16  \n",
       "45 Utah                 45  \n",
       "46 Vermont              51  \n",
       "47 Virginia             18  \n",
       "48 Washington           37  \n",
       "49 West Virginia        36  \n",
       "50 Wisconsin            34  \n",
       "51 Wyoming              43  "
      ]
     },
     "metadata": {},
     "output_type": "display_data"
    }
   ],
   "source": [
    "\n",
    "\n",
    "# Use select to only show state names and abbreviations from murders\n",
    "select(murders, state,rank)"
   ]
  },
  {
   "cell_type": "code",
   "execution_count": 40,
   "metadata": {},
   "outputs": [
    {
     "data": {
      "text/html": [
       "<table>\n",
       "<thead><tr><th scope=col>state</th><th scope=col>abb</th><th scope=col>region</th><th scope=col>population</th><th scope=col>total</th><th scope=col>rate</th><th scope=col>rank</th></tr></thead>\n",
       "<tbody>\n",
       "\t<tr><td>District of Columbia</td><td>DC                  </td><td>South               </td><td> 601723             </td><td> 99                 </td><td>16.452753           </td><td>1                   </td></tr>\n",
       "\t<tr><td>Louisiana           </td><td>LA                  </td><td>South               </td><td>4533372             </td><td>351                 </td><td> 7.742581           </td><td>2                   </td></tr>\n",
       "\t<tr><td>Maryland            </td><td>MD                  </td><td>South               </td><td>5773552             </td><td>293                 </td><td> 5.074866           </td><td>4                   </td></tr>\n",
       "\t<tr><td>Missouri            </td><td>MO                  </td><td>North Central       </td><td>5988927             </td><td>321                 </td><td> 5.359892           </td><td>3                   </td></tr>\n",
       "\t<tr><td>South Carolina      </td><td>SC                  </td><td>South               </td><td>4625364             </td><td>207                 </td><td> 4.475323           </td><td>5                   </td></tr>\n",
       "</tbody>\n",
       "</table>\n"
      ],
      "text/latex": [
       "\\begin{tabular}{r|lllllll}\n",
       " state & abb & region & population & total & rate & rank\\\\\n",
       "\\hline\n",
       "\t District of Columbia & DC                   & South                &  601723              &  99                  & 16.452753            & 1                   \\\\\n",
       "\t Louisiana            & LA                   & South                & 4533372              & 351                  &  7.742581            & 2                   \\\\\n",
       "\t Maryland             & MD                   & South                & 5773552              & 293                  &  5.074866            & 4                   \\\\\n",
       "\t Missouri             & MO                   & North Central        & 5988927              & 321                  &  5.359892            & 3                   \\\\\n",
       "\t South Carolina       & SC                   & South                & 4625364              & 207                  &  4.475323            & 5                   \\\\\n",
       "\\end{tabular}\n"
      ],
      "text/markdown": [
       "\n",
       "state | abb | region | population | total | rate | rank | \n",
       "|---|---|---|---|---|\n",
       "| District of Columbia | DC                   | South                |  601723              |  99                  | 16.452753            | 1                    | \n",
       "| Louisiana            | LA                   | South                | 4533372              | 351                  |  7.742581            | 2                    | \n",
       "| Maryland             | MD                   | South                | 5773552              | 293                  |  5.074866            | 4                    | \n",
       "| Missouri             | MO                   | North Central        | 5988927              | 321                  |  5.359892            | 3                    | \n",
       "| South Carolina       | SC                   | South                | 4625364              | 207                  |  4.475323            | 5                    | \n",
       "\n",
       "\n"
      ],
      "text/plain": [
       "  state                abb region        population total rate      rank\n",
       "1 District of Columbia DC  South          601723     99   16.452753 1   \n",
       "2 Louisiana            LA  South         4533372    351    7.742581 2   \n",
       "3 Maryland             MD  South         5773552    293    5.074866 4   \n",
       "4 Missouri             MO  North Central 5988927    321    5.359892 3   \n",
       "5 South Carolina       SC  South         4625364    207    4.475323 5   "
      ]
     },
     "metadata": {},
     "output_type": "display_data"
    }
   ],
   "source": [
    "# Add the necessary columns\n",
    "murders <- mutate(murders, rate = total/population * 100000, rank = rank(-rate))\n",
    "\n",
    "# Filter to show the top 5 states with the highest murder rates\n",
    "filter(murders, rank <= 5)"
   ]
  },
  {
   "cell_type": "code",
   "execution_count": 50,
   "metadata": {},
   "outputs": [
    {
     "data": {
      "text/html": [
       "<table>\n",
       "<thead><tr><th scope=col>state</th></tr></thead>\n",
       "<tbody>\n",
       "\t<tr><td>Alabama             </td></tr>\n",
       "\t<tr><td>Alaska              </td></tr>\n",
       "\t<tr><td>Arizona             </td></tr>\n",
       "\t<tr><td>Arkansas            </td></tr>\n",
       "\t<tr><td>California          </td></tr>\n",
       "\t<tr><td>Colorado            </td></tr>\n",
       "\t<tr><td>Connecticut         </td></tr>\n",
       "\t<tr><td>Delaware            </td></tr>\n",
       "\t<tr><td>District of Columbia</td></tr>\n",
       "\t<tr><td>Florida             </td></tr>\n",
       "\t<tr><td>Georgia             </td></tr>\n",
       "\t<tr><td>Hawaii              </td></tr>\n",
       "\t<tr><td>Idaho               </td></tr>\n",
       "\t<tr><td>Illinois            </td></tr>\n",
       "\t<tr><td>Indiana             </td></tr>\n",
       "\t<tr><td>Iowa                </td></tr>\n",
       "\t<tr><td>Kansas              </td></tr>\n",
       "\t<tr><td>Kentucky            </td></tr>\n",
       "\t<tr><td>Louisiana           </td></tr>\n",
       "\t<tr><td>Maine               </td></tr>\n",
       "\t<tr><td>Maryland            </td></tr>\n",
       "\t<tr><td>Massachusetts       </td></tr>\n",
       "\t<tr><td>Michigan            </td></tr>\n",
       "\t<tr><td>Minnesota           </td></tr>\n",
       "\t<tr><td>Mississippi         </td></tr>\n",
       "\t<tr><td>Missouri            </td></tr>\n",
       "\t<tr><td>Montana             </td></tr>\n",
       "\t<tr><td>Nebraska            </td></tr>\n",
       "\t<tr><td>Nevada              </td></tr>\n",
       "\t<tr><td>New Hampshire       </td></tr>\n",
       "\t<tr><td>New Jersey          </td></tr>\n",
       "\t<tr><td>New Mexico          </td></tr>\n",
       "\t<tr><td>New York            </td></tr>\n",
       "\t<tr><td>North Carolina      </td></tr>\n",
       "\t<tr><td>North Dakota        </td></tr>\n",
       "\t<tr><td>Ohio                </td></tr>\n",
       "\t<tr><td>Oklahoma            </td></tr>\n",
       "\t<tr><td>Oregon              </td></tr>\n",
       "\t<tr><td>Pennsylvania        </td></tr>\n",
       "\t<tr><td>Rhode Island        </td></tr>\n",
       "\t<tr><td>South Carolina      </td></tr>\n",
       "\t<tr><td>South Dakota        </td></tr>\n",
       "\t<tr><td>Tennessee           </td></tr>\n",
       "\t<tr><td>Texas               </td></tr>\n",
       "\t<tr><td>Utah                </td></tr>\n",
       "\t<tr><td>Vermont             </td></tr>\n",
       "\t<tr><td>Virginia            </td></tr>\n",
       "\t<tr><td>Washington          </td></tr>\n",
       "\t<tr><td>West Virginia       </td></tr>\n",
       "\t<tr><td>Wisconsin           </td></tr>\n",
       "\t<tr><td>Wyoming             </td></tr>\n",
       "</tbody>\n",
       "</table>\n"
      ],
      "text/latex": [
       "\\begin{tabular}{r|l}\n",
       " state\\\\\n",
       "\\hline\n",
       "\t Alabama             \\\\\n",
       "\t Alaska              \\\\\n",
       "\t Arizona             \\\\\n",
       "\t Arkansas            \\\\\n",
       "\t California          \\\\\n",
       "\t Colorado            \\\\\n",
       "\t Connecticut         \\\\\n",
       "\t Delaware            \\\\\n",
       "\t District of Columbia\\\\\n",
       "\t Florida             \\\\\n",
       "\t Georgia             \\\\\n",
       "\t Hawaii              \\\\\n",
       "\t Idaho               \\\\\n",
       "\t Illinois            \\\\\n",
       "\t Indiana             \\\\\n",
       "\t Iowa                \\\\\n",
       "\t Kansas              \\\\\n",
       "\t Kentucky            \\\\\n",
       "\t Louisiana           \\\\\n",
       "\t Maine               \\\\\n",
       "\t Maryland            \\\\\n",
       "\t Massachusetts       \\\\\n",
       "\t Michigan            \\\\\n",
       "\t Minnesota           \\\\\n",
       "\t Mississippi         \\\\\n",
       "\t Missouri            \\\\\n",
       "\t Montana             \\\\\n",
       "\t Nebraska            \\\\\n",
       "\t Nevada              \\\\\n",
       "\t New Hampshire       \\\\\n",
       "\t New Jersey          \\\\\n",
       "\t New Mexico          \\\\\n",
       "\t New York            \\\\\n",
       "\t North Carolina      \\\\\n",
       "\t North Dakota        \\\\\n",
       "\t Ohio                \\\\\n",
       "\t Oklahoma            \\\\\n",
       "\t Oregon              \\\\\n",
       "\t Pennsylvania        \\\\\n",
       "\t Rhode Island        \\\\\n",
       "\t South Carolina      \\\\\n",
       "\t South Dakota        \\\\\n",
       "\t Tennessee           \\\\\n",
       "\t Texas               \\\\\n",
       "\t Utah                \\\\\n",
       "\t Vermont             \\\\\n",
       "\t Virginia            \\\\\n",
       "\t Washington          \\\\\n",
       "\t West Virginia       \\\\\n",
       "\t Wisconsin           \\\\\n",
       "\t Wyoming             \\\\\n",
       "\\end{tabular}\n"
      ],
      "text/markdown": [
       "\n",
       "state | \n",
       "|---|---|---|---|---|---|---|---|---|---|---|---|---|---|---|---|---|---|---|---|---|---|---|---|---|---|---|---|---|---|---|---|---|---|---|---|---|---|---|---|---|---|---|---|---|---|---|---|---|---|---|\n",
       "| Alabama              | \n",
       "| Alaska               | \n",
       "| Arizona              | \n",
       "| Arkansas             | \n",
       "| California           | \n",
       "| Colorado             | \n",
       "| Connecticut          | \n",
       "| Delaware             | \n",
       "| District of Columbia | \n",
       "| Florida              | \n",
       "| Georgia              | \n",
       "| Hawaii               | \n",
       "| Idaho                | \n",
       "| Illinois             | \n",
       "| Indiana              | \n",
       "| Iowa                 | \n",
       "| Kansas               | \n",
       "| Kentucky             | \n",
       "| Louisiana            | \n",
       "| Maine                | \n",
       "| Maryland             | \n",
       "| Massachusetts        | \n",
       "| Michigan             | \n",
       "| Minnesota            | \n",
       "| Mississippi          | \n",
       "| Missouri             | \n",
       "| Montana              | \n",
       "| Nebraska             | \n",
       "| Nevada               | \n",
       "| New Hampshire        | \n",
       "| New Jersey           | \n",
       "| New Mexico           | \n",
       "| New York             | \n",
       "| North Carolina       | \n",
       "| North Dakota         | \n",
       "| Ohio                 | \n",
       "| Oklahoma             | \n",
       "| Oregon               | \n",
       "| Pennsylvania         | \n",
       "| Rhode Island         | \n",
       "| South Carolina       | \n",
       "| South Dakota         | \n",
       "| Tennessee            | \n",
       "| Texas                | \n",
       "| Utah                 | \n",
       "| Vermont              | \n",
       "| Virginia             | \n",
       "| Washington           | \n",
       "| West Virginia        | \n",
       "| Wisconsin            | \n",
       "| Wyoming              | \n",
       "\n",
       "\n"
      ],
      "text/plain": [
       "   state               \n",
       "1  Alabama             \n",
       "2  Alaska              \n",
       "3  Arizona             \n",
       "4  Arkansas            \n",
       "5  California          \n",
       "6  Colorado            \n",
       "7  Connecticut         \n",
       "8  Delaware            \n",
       "9  District of Columbia\n",
       "10 Florida             \n",
       "11 Georgia             \n",
       "12 Hawaii              \n",
       "13 Idaho               \n",
       "14 Illinois            \n",
       "15 Indiana             \n",
       "16 Iowa                \n",
       "17 Kansas              \n",
       "18 Kentucky            \n",
       "19 Louisiana           \n",
       "20 Maine               \n",
       "21 Maryland            \n",
       "22 Massachusetts       \n",
       "23 Michigan            \n",
       "24 Minnesota           \n",
       "25 Mississippi         \n",
       "26 Missouri            \n",
       "27 Montana             \n",
       "28 Nebraska            \n",
       "29 Nevada              \n",
       "30 New Hampshire       \n",
       "31 New Jersey          \n",
       "32 New Mexico          \n",
       "33 New York            \n",
       "34 North Carolina      \n",
       "35 North Dakota        \n",
       "36 Ohio                \n",
       "37 Oklahoma            \n",
       "38 Oregon              \n",
       "39 Pennsylvania        \n",
       "40 Rhode Island        \n",
       "41 South Carolina      \n",
       "42 South Dakota        \n",
       "43 Tennessee           \n",
       "44 Texas               \n",
       "45 Utah                \n",
       "46 Vermont             \n",
       "47 Virginia            \n",
       "48 Washington          \n",
       "49 West Virginia       \n",
       "50 Wisconsin           \n",
       "51 Wyoming             "
      ]
     },
     "metadata": {},
     "output_type": "display_data"
    }
   ],
   "source": [
    "select(murders,state)"
   ]
  },
  {
   "cell_type": "code",
   "execution_count": 45,
   "metadata": {},
   "outputs": [
    {
     "data": {
      "text/html": [
       "<table>\n",
       "<thead><tr><th scope=col>state</th><th scope=col>abb</th><th scope=col>region</th><th scope=col>population</th><th scope=col>total</th><th scope=col>rate</th><th scope=col>rank</th></tr></thead>\n",
       "<tbody>\n",
       "\t<tr><td>Alaska       </td><td>AK           </td><td>West         </td><td>  710231     </td><td>  19         </td><td>2.6751860    </td><td>27           </td></tr>\n",
       "\t<tr><td>Arizona      </td><td>AZ           </td><td>West         </td><td> 6392017     </td><td> 232         </td><td>3.6295273    </td><td>10           </td></tr>\n",
       "\t<tr><td>California   </td><td>CA           </td><td>West         </td><td>37253956     </td><td>1257         </td><td>3.3741383    </td><td>14           </td></tr>\n",
       "\t<tr><td>Colorado     </td><td>CO           </td><td>West         </td><td> 5029196     </td><td>  65         </td><td>1.2924531    </td><td>38           </td></tr>\n",
       "\t<tr><td>Connecticut  </td><td>CT           </td><td>Northeast    </td><td> 3574097     </td><td>  97         </td><td>2.7139722    </td><td>25           </td></tr>\n",
       "\t<tr><td>Hawaii       </td><td>HI           </td><td>West         </td><td> 1360301     </td><td>   7         </td><td>0.5145920    </td><td>49           </td></tr>\n",
       "\t<tr><td>Idaho        </td><td>ID           </td><td>West         </td><td> 1567582     </td><td>  12         </td><td>0.7655102    </td><td>46           </td></tr>\n",
       "\t<tr><td>Illinois     </td><td>IL           </td><td>North Central</td><td>12830632     </td><td> 364         </td><td>2.8369608    </td><td>22           </td></tr>\n",
       "\t<tr><td>Indiana      </td><td>IN           </td><td>North Central</td><td> 6483802     </td><td> 142         </td><td>2.1900730    </td><td>31           </td></tr>\n",
       "\t<tr><td>Iowa         </td><td>IA           </td><td>North Central</td><td> 3046355     </td><td>  21         </td><td>0.6893484    </td><td>47           </td></tr>\n",
       "\t<tr><td>Kansas       </td><td>KS           </td><td>North Central</td><td> 2853118     </td><td>  63         </td><td>2.2081106    </td><td>30           </td></tr>\n",
       "\t<tr><td>Maine        </td><td>ME           </td><td>Northeast    </td><td> 1328361     </td><td>  11         </td><td>0.8280881    </td><td>44           </td></tr>\n",
       "\t<tr><td>Massachusetts</td><td>MA           </td><td>Northeast    </td><td> 6547629     </td><td> 118         </td><td>1.8021791    </td><td>32           </td></tr>\n",
       "\t<tr><td>Michigan     </td><td>MI           </td><td>North Central</td><td> 9883640     </td><td> 413         </td><td>4.1786225    </td><td> 7           </td></tr>\n",
       "\t<tr><td>Minnesota    </td><td>MN           </td><td>North Central</td><td> 5303925     </td><td>  53         </td><td>0.9992600    </td><td>40           </td></tr>\n",
       "\t<tr><td>Missouri     </td><td>MO           </td><td>North Central</td><td> 5988927     </td><td> 321         </td><td>5.3598917    </td><td> 3           </td></tr>\n",
       "\t<tr><td>Montana      </td><td>MT           </td><td>West         </td><td>  989415     </td><td>  12         </td><td>1.2128379    </td><td>39           </td></tr>\n",
       "\t<tr><td>Nebraska     </td><td>NE           </td><td>North Central</td><td> 1826341     </td><td>  32         </td><td>1.7521372    </td><td>33           </td></tr>\n",
       "\t<tr><td>Nevada       </td><td>NV           </td><td>West         </td><td> 2700551     </td><td>  84         </td><td>3.1104763    </td><td>19           </td></tr>\n",
       "\t<tr><td>New Hampshire</td><td>NH           </td><td>Northeast    </td><td> 1316470     </td><td>   5         </td><td>0.3798036    </td><td>50           </td></tr>\n",
       "\t<tr><td>New Jersey   </td><td>NJ           </td><td>Northeast    </td><td> 8791894     </td><td> 246         </td><td>2.7980319    </td><td>24           </td></tr>\n",
       "\t<tr><td>New Mexico   </td><td>NM           </td><td>West         </td><td> 2059179     </td><td>  67         </td><td>3.2537239    </td><td>15           </td></tr>\n",
       "\t<tr><td>New York     </td><td>NY           </td><td>Northeast    </td><td>19378102     </td><td> 517         </td><td>2.6679599    </td><td>29           </td></tr>\n",
       "\t<tr><td>North Dakota </td><td>ND           </td><td>North Central</td><td>  672591     </td><td>   4         </td><td>0.5947151    </td><td>48           </td></tr>\n",
       "\t<tr><td>Ohio         </td><td>OH           </td><td>North Central</td><td>11536504     </td><td> 310         </td><td>2.6871225    </td><td>26           </td></tr>\n",
       "\t<tr><td>Oregon       </td><td>OR           </td><td>West         </td><td> 3831074     </td><td>  36         </td><td>0.9396843    </td><td>42           </td></tr>\n",
       "\t<tr><td>Pennsylvania </td><td>PA           </td><td>Northeast    </td><td>12702379     </td><td> 457         </td><td>3.5977513    </td><td>11           </td></tr>\n",
       "\t<tr><td>Rhode Island </td><td>RI           </td><td>Northeast    </td><td> 1052567     </td><td>  16         </td><td>1.5200933    </td><td>35           </td></tr>\n",
       "\t<tr><td>South Dakota </td><td>SD           </td><td>North Central</td><td>  814180     </td><td>   8         </td><td>0.9825837    </td><td>41           </td></tr>\n",
       "\t<tr><td>Utah         </td><td>UT           </td><td>West         </td><td> 2763885     </td><td>  22         </td><td>0.7959810    </td><td>45           </td></tr>\n",
       "\t<tr><td>Vermont      </td><td>VT           </td><td>Northeast    </td><td>  625741     </td><td>   2         </td><td>0.3196211    </td><td>51           </td></tr>\n",
       "\t<tr><td>Washington   </td><td>WA           </td><td>West         </td><td> 6724540     </td><td>  93         </td><td>1.3829942    </td><td>37           </td></tr>\n",
       "\t<tr><td>Wisconsin    </td><td>WI           </td><td>North Central</td><td> 5686986     </td><td>  97         </td><td>1.7056487    </td><td>34           </td></tr>\n",
       "\t<tr><td>Wyoming      </td><td>WY           </td><td>West         </td><td>  563626     </td><td>   5         </td><td>0.8871131    </td><td>43           </td></tr>\n",
       "</tbody>\n",
       "</table>\n"
      ],
      "text/latex": [
       "\\begin{tabular}{r|lllllll}\n",
       " state & abb & region & population & total & rate & rank\\\\\n",
       "\\hline\n",
       "\t Alaska        & AK            & West          &   710231      &   19          & 2.6751860     & 27           \\\\\n",
       "\t Arizona       & AZ            & West          &  6392017      &  232          & 3.6295273     & 10           \\\\\n",
       "\t California    & CA            & West          & 37253956      & 1257          & 3.3741383     & 14           \\\\\n",
       "\t Colorado      & CO            & West          &  5029196      &   65          & 1.2924531     & 38           \\\\\n",
       "\t Connecticut   & CT            & Northeast     &  3574097      &   97          & 2.7139722     & 25           \\\\\n",
       "\t Hawaii        & HI            & West          &  1360301      &    7          & 0.5145920     & 49           \\\\\n",
       "\t Idaho         & ID            & West          &  1567582      &   12          & 0.7655102     & 46           \\\\\n",
       "\t Illinois      & IL            & North Central & 12830632      &  364          & 2.8369608     & 22           \\\\\n",
       "\t Indiana       & IN            & North Central &  6483802      &  142          & 2.1900730     & 31           \\\\\n",
       "\t Iowa          & IA            & North Central &  3046355      &   21          & 0.6893484     & 47           \\\\\n",
       "\t Kansas        & KS            & North Central &  2853118      &   63          & 2.2081106     & 30           \\\\\n",
       "\t Maine         & ME            & Northeast     &  1328361      &   11          & 0.8280881     & 44           \\\\\n",
       "\t Massachusetts & MA            & Northeast     &  6547629      &  118          & 1.8021791     & 32           \\\\\n",
       "\t Michigan      & MI            & North Central &  9883640      &  413          & 4.1786225     &  7           \\\\\n",
       "\t Minnesota     & MN            & North Central &  5303925      &   53          & 0.9992600     & 40           \\\\\n",
       "\t Missouri      & MO            & North Central &  5988927      &  321          & 5.3598917     &  3           \\\\\n",
       "\t Montana       & MT            & West          &   989415      &   12          & 1.2128379     & 39           \\\\\n",
       "\t Nebraska      & NE            & North Central &  1826341      &   32          & 1.7521372     & 33           \\\\\n",
       "\t Nevada        & NV            & West          &  2700551      &   84          & 3.1104763     & 19           \\\\\n",
       "\t New Hampshire & NH            & Northeast     &  1316470      &    5          & 0.3798036     & 50           \\\\\n",
       "\t New Jersey    & NJ            & Northeast     &  8791894      &  246          & 2.7980319     & 24           \\\\\n",
       "\t New Mexico    & NM            & West          &  2059179      &   67          & 3.2537239     & 15           \\\\\n",
       "\t New York      & NY            & Northeast     & 19378102      &  517          & 2.6679599     & 29           \\\\\n",
       "\t North Dakota  & ND            & North Central &   672591      &    4          & 0.5947151     & 48           \\\\\n",
       "\t Ohio          & OH            & North Central & 11536504      &  310          & 2.6871225     & 26           \\\\\n",
       "\t Oregon        & OR            & West          &  3831074      &   36          & 0.9396843     & 42           \\\\\n",
       "\t Pennsylvania  & PA            & Northeast     & 12702379      &  457          & 3.5977513     & 11           \\\\\n",
       "\t Rhode Island  & RI            & Northeast     &  1052567      &   16          & 1.5200933     & 35           \\\\\n",
       "\t South Dakota  & SD            & North Central &   814180      &    8          & 0.9825837     & 41           \\\\\n",
       "\t Utah          & UT            & West          &  2763885      &   22          & 0.7959810     & 45           \\\\\n",
       "\t Vermont       & VT            & Northeast     &   625741      &    2          & 0.3196211     & 51           \\\\\n",
       "\t Washington    & WA            & West          &  6724540      &   93          & 1.3829942     & 37           \\\\\n",
       "\t Wisconsin     & WI            & North Central &  5686986      &   97          & 1.7056487     & 34           \\\\\n",
       "\t Wyoming       & WY            & West          &   563626      &    5          & 0.8871131     & 43           \\\\\n",
       "\\end{tabular}\n"
      ],
      "text/markdown": [
       "\n",
       "state | abb | region | population | total | rate | rank | \n",
       "|---|---|---|---|---|---|---|---|---|---|---|---|---|---|---|---|---|---|---|---|---|---|---|---|---|---|---|---|---|---|---|---|---|---|\n",
       "| Alaska        | AK            | West          |   710231      |   19          | 2.6751860     | 27            | \n",
       "| Arizona       | AZ            | West          |  6392017      |  232          | 3.6295273     | 10            | \n",
       "| California    | CA            | West          | 37253956      | 1257          | 3.3741383     | 14            | \n",
       "| Colorado      | CO            | West          |  5029196      |   65          | 1.2924531     | 38            | \n",
       "| Connecticut   | CT            | Northeast     |  3574097      |   97          | 2.7139722     | 25            | \n",
       "| Hawaii        | HI            | West          |  1360301      |    7          | 0.5145920     | 49            | \n",
       "| Idaho         | ID            | West          |  1567582      |   12          | 0.7655102     | 46            | \n",
       "| Illinois      | IL            | North Central | 12830632      |  364          | 2.8369608     | 22            | \n",
       "| Indiana       | IN            | North Central |  6483802      |  142          | 2.1900730     | 31            | \n",
       "| Iowa          | IA            | North Central |  3046355      |   21          | 0.6893484     | 47            | \n",
       "| Kansas        | KS            | North Central |  2853118      |   63          | 2.2081106     | 30            | \n",
       "| Maine         | ME            | Northeast     |  1328361      |   11          | 0.8280881     | 44            | \n",
       "| Massachusetts | MA            | Northeast     |  6547629      |  118          | 1.8021791     | 32            | \n",
       "| Michigan      | MI            | North Central |  9883640      |  413          | 4.1786225     |  7            | \n",
       "| Minnesota     | MN            | North Central |  5303925      |   53          | 0.9992600     | 40            | \n",
       "| Missouri      | MO            | North Central |  5988927      |  321          | 5.3598917     |  3            | \n",
       "| Montana       | MT            | West          |   989415      |   12          | 1.2128379     | 39            | \n",
       "| Nebraska      | NE            | North Central |  1826341      |   32          | 1.7521372     | 33            | \n",
       "| Nevada        | NV            | West          |  2700551      |   84          | 3.1104763     | 19            | \n",
       "| New Hampshire | NH            | Northeast     |  1316470      |    5          | 0.3798036     | 50            | \n",
       "| New Jersey    | NJ            | Northeast     |  8791894      |  246          | 2.7980319     | 24            | \n",
       "| New Mexico    | NM            | West          |  2059179      |   67          | 3.2537239     | 15            | \n",
       "| New York      | NY            | Northeast     | 19378102      |  517          | 2.6679599     | 29            | \n",
       "| North Dakota  | ND            | North Central |   672591      |    4          | 0.5947151     | 48            | \n",
       "| Ohio          | OH            | North Central | 11536504      |  310          | 2.6871225     | 26            | \n",
       "| Oregon        | OR            | West          |  3831074      |   36          | 0.9396843     | 42            | \n",
       "| Pennsylvania  | PA            | Northeast     | 12702379      |  457          | 3.5977513     | 11            | \n",
       "| Rhode Island  | RI            | Northeast     |  1052567      |   16          | 1.5200933     | 35            | \n",
       "| South Dakota  | SD            | North Central |   814180      |    8          | 0.9825837     | 41            | \n",
       "| Utah          | UT            | West          |  2763885      |   22          | 0.7959810     | 45            | \n",
       "| Vermont       | VT            | Northeast     |   625741      |    2          | 0.3196211     | 51            | \n",
       "| Washington    | WA            | West          |  6724540      |   93          | 1.3829942     | 37            | \n",
       "| Wisconsin     | WI            | North Central |  5686986      |   97          | 1.7056487     | 34            | \n",
       "| Wyoming       | WY            | West          |   563626      |    5          | 0.8871131     | 43            | \n",
       "\n",
       "\n"
      ],
      "text/plain": [
       "   state         abb region        population total rate      rank\n",
       "1  Alaska        AK  West            710231     19  2.6751860 27  \n",
       "2  Arizona       AZ  West           6392017    232  3.6295273 10  \n",
       "3  California    CA  West          37253956   1257  3.3741383 14  \n",
       "4  Colorado      CO  West           5029196     65  1.2924531 38  \n",
       "5  Connecticut   CT  Northeast      3574097     97  2.7139722 25  \n",
       "6  Hawaii        HI  West           1360301      7  0.5145920 49  \n",
       "7  Idaho         ID  West           1567582     12  0.7655102 46  \n",
       "8  Illinois      IL  North Central 12830632    364  2.8369608 22  \n",
       "9  Indiana       IN  North Central  6483802    142  2.1900730 31  \n",
       "10 Iowa          IA  North Central  3046355     21  0.6893484 47  \n",
       "11 Kansas        KS  North Central  2853118     63  2.2081106 30  \n",
       "12 Maine         ME  Northeast      1328361     11  0.8280881 44  \n",
       "13 Massachusetts MA  Northeast      6547629    118  1.8021791 32  \n",
       "14 Michigan      MI  North Central  9883640    413  4.1786225  7  \n",
       "15 Minnesota     MN  North Central  5303925     53  0.9992600 40  \n",
       "16 Missouri      MO  North Central  5988927    321  5.3598917  3  \n",
       "17 Montana       MT  West            989415     12  1.2128379 39  \n",
       "18 Nebraska      NE  North Central  1826341     32  1.7521372 33  \n",
       "19 Nevada        NV  West           2700551     84  3.1104763 19  \n",
       "20 New Hampshire NH  Northeast      1316470      5  0.3798036 50  \n",
       "21 New Jersey    NJ  Northeast      8791894    246  2.7980319 24  \n",
       "22 New Mexico    NM  West           2059179     67  3.2537239 15  \n",
       "23 New York      NY  Northeast     19378102    517  2.6679599 29  \n",
       "24 North Dakota  ND  North Central   672591      4  0.5947151 48  \n",
       "25 Ohio          OH  North Central 11536504    310  2.6871225 26  \n",
       "26 Oregon        OR  West           3831074     36  0.9396843 42  \n",
       "27 Pennsylvania  PA  Northeast     12702379    457  3.5977513 11  \n",
       "28 Rhode Island  RI  Northeast      1052567     16  1.5200933 35  \n",
       "29 South Dakota  SD  North Central   814180      8  0.9825837 41  \n",
       "30 Utah          UT  West           2763885     22  0.7959810 45  \n",
       "31 Vermont       VT  Northeast       625741      2  0.3196211 51  \n",
       "32 Washington    WA  West           6724540     93  1.3829942 37  \n",
       "33 Wisconsin     WI  North Central  5686986     97  1.7056487 34  \n",
       "34 Wyoming       WY  West            563626      5  0.8871131 43  "
      ]
     },
     "metadata": {},
     "output_type": "display_data"
    }
   ],
   "source": [
    "filter(murders,region != \"South\")"
   ]
  },
  {
   "cell_type": "code",
   "execution_count": null,
   "metadata": {},
   "outputs": [],
   "source": [
    "# Use filter to create a new data frame no_south\n",
    "no_south <- filter(murders,region!=\"South\")\n",
    "# Use nrow() to calculate the number of rows\n",
    "nrow(no_south)"
   ]
  },
  {
   "cell_type": "code",
   "execution_count": null,
   "metadata": {},
   "outputs": [],
   "source": [
    "# Create a new data frame called murders_nw with only the states from the northeast and the west\n",
    "murders_nw<-filter(murders,region %in% c(\"Northeast\",\"West\"))\n",
    "# Number of states (rows) in this category \n",
    "nrow(murders_nw)"
   ]
  },
  {
   "cell_type": "code",
   "execution_count": null,
   "metadata": {},
   "outputs": [],
   "source": [
    "murders <- mutate(murders, rate =  total / population * 100000, rank = rank(-rate))\n"
   ]
  },
  {
   "cell_type": "code",
   "execution_count": null,
   "metadata": {},
   "outputs": [],
   "source": [
    "# Created a table \n",
    "my_states <- filter(murders, region %in% c(\"Northeast\", \"West\") & rate < 1)\n",
    "\n",
    "# Used select to show only the state name, the murder rate and the rank\n",
    "select(my_states, state, rate, rank)\n"
   ]
  },
  {
   "cell_type": "code",
   "execution_count": null,
   "metadata": {},
   "outputs": [],
   "source": [
    "# learn how to pipes\n",
    "\n",
    "# Create new data frame called my_states (with specifications in the instructions)\n",
    "my_states <- murders %>% \n",
    "    mutate(rate =  total / population * 100000, rank = rank(-rate)) %>%\n",
    "    filter(region %in% c(\"Northeast\", \"West\") & rate < 1) %>%\n",
    "    select(state, rate, rank)"
   ]
  },
  {
   "cell_type": "code",
   "execution_count": 54,
   "metadata": {},
   "outputs": [],
   "source": [
    "# Associate the cost values with its corresponding food item\n",
    "cost <- c(50, 75, 90, 100, 150)\n",
    "food <- c(\"pizza\", \"burgers\", \"salads\", \"cheese\", \"pasta\")\n",
    "names(cost) <- food\n"
   ]
  },
  {
   "cell_type": "code",
   "execution_count": 55,
   "metadata": {},
   "outputs": [
    {
     "data": {
      "text/html": [
       "<dl class=dl-horizontal>\n",
       "\t<dt>pizza</dt>\n",
       "\t\t<dd>50</dd>\n",
       "\t<dt>burgers</dt>\n",
       "\t\t<dd>75</dd>\n",
       "\t<dt>salads</dt>\n",
       "\t\t<dd>90</dd>\n",
       "\t<dt>cheese</dt>\n",
       "\t\t<dd>100</dd>\n",
       "\t<dt>pasta</dt>\n",
       "\t\t<dd>150</dd>\n",
       "</dl>\n"
      ],
      "text/latex": [
       "\\begin{description*}\n",
       "\\item[pizza] 50\n",
       "\\item[burgers] 75\n",
       "\\item[salads] 90\n",
       "\\item[cheese] 100\n",
       "\\item[pasta] 150\n",
       "\\end{description*}\n"
      ],
      "text/markdown": [
       "pizza\n",
       ":   50burgers\n",
       ":   75salads\n",
       ":   90cheese\n",
       ":   100pasta\n",
       ":   150\n",
       "\n"
      ],
      "text/plain": [
       "  pizza burgers  salads  cheese   pasta \n",
       "     50      75      90     100     150 "
      ]
     },
     "metadata": {},
     "output_type": "display_data"
    }
   ],
   "source": [
    "cost"
   ]
  },
  {
   "cell_type": "code",
   "execution_count": 56,
   "metadata": {},
   "outputs": [
    {
     "data": {
      "text/html": [
       "<strong>pizza:</strong> 50"
      ],
      "text/latex": [
       "\\textbf{pizza:} 50"
      ],
      "text/markdown": [
       "**pizza:** 50"
      ],
      "text/plain": [
       "pizza \n",
       "   50 "
      ]
     },
     "metadata": {},
     "output_type": "display_data"
    }
   ],
   "source": [
    "cost[1]"
   ]
  },
  {
   "cell_type": "code",
   "execution_count": 57,
   "metadata": {},
   "outputs": [],
   "source": [
    "temp <- c(35, 88, 42, 84, 81, 30)\n",
    "city <- c(\"Beijing\", \"Lagos\", \"Paris\", \"Rio de Janeiro\", \"San Juan\", \"Toronto\")\n",
    "city_temps <- data.frame(name = city, temperature = temp)\n"
   ]
  },
  {
   "cell_type": "code",
   "execution_count": 58,
   "metadata": {},
   "outputs": [
    {
     "data": {
      "text/html": [
       "<table>\n",
       "<thead><tr><th scope=col>name</th><th scope=col>temperature</th></tr></thead>\n",
       "<tbody>\n",
       "\t<tr><td>Beijing       </td><td>35            </td></tr>\n",
       "\t<tr><td>Lagos         </td><td>88            </td></tr>\n",
       "\t<tr><td>Paris         </td><td>42            </td></tr>\n",
       "\t<tr><td>Rio de Janeiro</td><td>84            </td></tr>\n",
       "\t<tr><td>San Juan      </td><td>81            </td></tr>\n",
       "\t<tr><td>Toronto       </td><td>30            </td></tr>\n",
       "</tbody>\n",
       "</table>\n"
      ],
      "text/latex": [
       "\\begin{tabular}{r|ll}\n",
       " name & temperature\\\\\n",
       "\\hline\n",
       "\t Beijing        & 35            \\\\\n",
       "\t Lagos          & 88            \\\\\n",
       "\t Paris          & 42            \\\\\n",
       "\t Rio de Janeiro & 84            \\\\\n",
       "\t San Juan       & 81            \\\\\n",
       "\t Toronto        & 30            \\\\\n",
       "\\end{tabular}\n"
      ],
      "text/markdown": [
       "\n",
       "name | temperature | \n",
       "|---|---|---|---|---|---|\n",
       "| Beijing        | 35             | \n",
       "| Lagos          | 88             | \n",
       "| Paris          | 42             | \n",
       "| Rio de Janeiro | 84             | \n",
       "| San Juan       | 81             | \n",
       "| Toronto        | 30             | \n",
       "\n",
       "\n"
      ],
      "text/plain": [
       "  name           temperature\n",
       "1 Beijing        35         \n",
       "2 Lagos          88         \n",
       "3 Paris          42         \n",
       "4 Rio de Janeiro 84         \n",
       "5 San Juan       81         \n",
       "6 Toronto        30         "
      ]
     },
     "metadata": {},
     "output_type": "display_data"
    }
   ],
   "source": [
    "city_temps"
   ]
  },
  {
   "cell_type": "code",
   "execution_count": 59,
   "metadata": {},
   "outputs": [
    {
     "data": {
      "text/html": [
       "<table>\n",
       "<thead><tr><th scope=col>name</th></tr></thead>\n",
       "<tbody>\n",
       "\t<tr><td>Beijing       </td></tr>\n",
       "\t<tr><td>Lagos         </td></tr>\n",
       "\t<tr><td>Paris         </td></tr>\n",
       "\t<tr><td>Rio de Janeiro</td></tr>\n",
       "\t<tr><td>San Juan      </td></tr>\n",
       "\t<tr><td>Toronto       </td></tr>\n",
       "</tbody>\n",
       "</table>\n"
      ],
      "text/latex": [
       "\\begin{tabular}{r|l}\n",
       " name\\\\\n",
       "\\hline\n",
       "\t Beijing       \\\\\n",
       "\t Lagos         \\\\\n",
       "\t Paris         \\\\\n",
       "\t Rio de Janeiro\\\\\n",
       "\t San Juan      \\\\\n",
       "\t Toronto       \\\\\n",
       "\\end{tabular}\n"
      ],
      "text/markdown": [
       "\n",
       "name | \n",
       "|---|---|---|---|---|---|\n",
       "| Beijing        | \n",
       "| Lagos          | \n",
       "| Paris          | \n",
       "| Rio de Janeiro | \n",
       "| San Juan       | \n",
       "| Toronto        | \n",
       "\n",
       "\n"
      ],
      "text/plain": [
       "  name          \n",
       "1 Beijing       \n",
       "2 Lagos         \n",
       "3 Paris         \n",
       "4 Rio de Janeiro\n",
       "5 San Juan      \n",
       "6 Toronto       "
      ]
     },
     "metadata": {},
     "output_type": "display_data"
    }
   ],
   "source": [
    "city_temps[1]"
   ]
  },
  {
   "cell_type": "code",
   "execution_count": null,
   "metadata": {},
   "outputs": [],
   "source": []
  }
 ],
 "metadata": {
  "kernelspec": {
   "display_name": "R",
   "language": "R",
   "name": "ir"
  },
  "language_info": {
   "codemirror_mode": "r",
   "file_extension": ".r",
   "mimetype": "text/x-r-source",
   "name": "R",
   "pygments_lexer": "r",
   "version": "3.4.3"
  }
 },
 "nbformat": 4,
 "nbformat_minor": 2
}
