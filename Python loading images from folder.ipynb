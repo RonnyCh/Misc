{
 "cells": [
  {
   "cell_type": "markdown",
   "metadata": {},
   "source": [
    "# DAT210x - Programming with Python for DS"
   ]
  },
  {
   "cell_type": "markdown",
   "metadata": {},
   "source": [
    "## Module4- Lab5"
   ]
  },
  {
   "cell_type": "code",
   "execution_count": 20,
   "metadata": {
    "collapsed": true
   },
   "outputs": [],
   "source": [
    "import pandas as pd\n",
    "\n",
    "from scipy import misc\n",
    "from mpl_toolkits.mplot3d import Axes3D\n",
    "import matplotlib\n",
    "import matplotlib.pyplot as plt"
   ]
  },
  {
   "cell_type": "code",
   "execution_count": 21,
   "metadata": {
    "collapsed": true
   },
   "outputs": [],
   "source": [
    "# Look pretty...\n",
    "\n",
    "# matplotlib.style.use('ggplot')\n",
    "plt.style.use('ggplot')"
   ]
  },
  {
   "cell_type": "markdown",
   "metadata": {
    "collapsed": true
   },
   "source": [
    "Create a regular Python list (not NDArray) and name it `samples`:"
   ]
  },
  {
   "cell_type": "code",
   "execution_count": 83,
   "metadata": {},
   "outputs": [],
   "source": [
    "directory = r\"/Users/ronny/Downloads/DAT210x-master/Module4/Datasets/ALOI/32\"\n",
    "\n",
    "import os\n",
    "files = os.listdir(directory)"
   ]
  },
  {
   "cell_type": "code",
   "execution_count": 77,
   "metadata": {
    "collapsed": true
   },
   "outputs": [],
   "source": [
    "directory = r\"/Users/ronny/Downloads/DAT210x-master/Module4/Datasets/ALOI/32i\"\n",
    "\n",
    "import os\n",
    "files2 = os.listdir(directory)"
   ]
  },
  {
   "cell_type": "code",
   "execution_count": 88,
   "metadata": {},
   "outputs": [],
   "source": []
  },
  {
   "cell_type": "code",
   "execution_count": 89,
   "metadata": {},
   "outputs": [
    {
     "data": {
      "text/plain": [
       "['32_r0.png',\n",
       " '32_r10.png',\n",
       " '32_r100.png',\n",
       " '32_r105.png',\n",
       " '32_r110.png',\n",
       " '32_r115.png',\n",
       " '32_r120.png',\n",
       " '32_r125.png',\n",
       " '32_r130.png',\n",
       " '32_r135.png',\n",
       " '32_r140.png',\n",
       " '32_r145.png',\n",
       " '32_r15.png',\n",
       " '32_r150.png',\n",
       " '32_r155.png',\n",
       " '32_r160.png',\n",
       " '32_r165.png',\n",
       " '32_r170.png',\n",
       " '32_r175.png',\n",
       " '32_r180.png',\n",
       " '32_r185.png',\n",
       " '32_r190.png',\n",
       " '32_r195.png',\n",
       " '32_r20.png',\n",
       " '32_r200.png',\n",
       " '32_r205.png',\n",
       " '32_r210.png',\n",
       " '32_r215.png',\n",
       " '32_r220.png',\n",
       " '32_r225.png',\n",
       " '32_r230.png',\n",
       " '32_r235.png',\n",
       " '32_r240.png',\n",
       " '32_r245.png',\n",
       " '32_r25.png',\n",
       " '32_r250.png',\n",
       " '32_r255.png',\n",
       " '32_r260.png',\n",
       " '32_r265.png',\n",
       " '32_r270.png',\n",
       " '32_r275.png',\n",
       " '32_r280.png',\n",
       " '32_r285.png',\n",
       " '32_r290.png',\n",
       " '32_r295.png',\n",
       " '32_r30.png',\n",
       " '32_r300.png',\n",
       " '32_r305.png',\n",
       " '32_r310.png',\n",
       " '32_r315.png',\n",
       " '32_r320.png',\n",
       " '32_r325.png',\n",
       " '32_r330.png',\n",
       " '32_r335.png',\n",
       " '32_r340.png',\n",
       " '32_r345.png',\n",
       " '32_r35.png',\n",
       " '32_r350.png',\n",
       " '32_r355.png',\n",
       " '32_r40.png',\n",
       " '32_r45.png',\n",
       " '32_r5.png',\n",
       " '32_r50.png',\n",
       " '32_r55.png',\n",
       " '32_r60.png',\n",
       " '32_r65.png',\n",
       " '32_r70.png',\n",
       " '32_r75.png',\n",
       " '32_r80.png',\n",
       " '32_r85.png',\n",
       " '32_r90.png',\n",
       " '32_r95.png']"
      ]
     },
     "execution_count": 89,
     "metadata": {},
     "output_type": "execute_result"
    }
   ],
   "source": []
  },
  {
   "cell_type": "code",
   "execution_count": 81,
   "metadata": {},
   "outputs": [
    {
     "data": {
      "text/plain": [
       "82"
      ]
     },
     "execution_count": 81,
     "metadata": {},
     "output_type": "execute_result"
    }
   ],
   "source": [
    "\n",
    "# check total rows and a bit of clean up to delete row 1 and the last row\n",
    "len(files)\n"
   ]
  },
  {
   "cell_type": "markdown",
   "metadata": {
    "collapsed": true
   },
   "source": [
    "Code up a for-loop that iterates over the images in the `Datasets/ALOI/32/` folder. Look in the folder first, so you know how the files are organized, and what file number they start from and end at.\n",
    "\n",
    "Load each `.png` file individually in your for-loop using the instructions provided in the Feature Representation reading. Once loaded, flatten the image into a single-dimensional NDArray and append it to your `samples` list.\n",
    "\n",
    "**Optional**: You can resample the image down by a factor of two if you have a slower computer. You can also scale the image from `0-255` to `0.0-1.0` if you'd like--doing so shouldn't have any effect on the algorithm's results."
   ]
  },
  {
   "cell_type": "code",
   "execution_count": 107,
   "metadata": {},
   "outputs": [],
   "source": [
    "# .. your code here ..\n",
    "# Uses the Image module (PIL)\n",
    "\n",
    "os.chdir(\"/Users/ronny/Downloads/DAT210x-master/Module4/Datasets/ALOI/32\")\n",
    "\n",
    "import pandas as pd\n",
    "from scipy import misc\n",
    "\n",
    "# Load the image up\n",
    "dset = []\n",
    "for fname in files:\n",
    "  img = misc.imread(fname)\n",
    "  dset.append(  (img[::2, ::2] / 255.0).reshape(-1)  )\n",
    "\n"
   ]
  },
  {
   "cell_type": "code",
   "execution_count": 103,
   "metadata": {
    "collapsed": true
   },
   "outputs": [],
   "source": [
    "# .. your code here ..\n",
    "# Uses the Image module (PIL)\n",
    "\n",
    "os.chdir(\"/Users/ronny/Downloads/DAT210x-master/Module4/Datasets/ALOI/32i\")\n",
    "\n",
    "\n",
    "import pandas as pd\n",
    "from scipy import misc\n",
    "\n",
    "# Load the image up\n",
    "dset = []\n",
    "for fname in files2:\n",
    "  img = misc.imread(fname)\n",
    "  dset.append(  (img[::2, ::2] / 255.0).reshape(-1)  )"
   ]
  },
  {
   "cell_type": "code",
   "execution_count": 102,
   "metadata": {},
   "outputs": [],
   "source": [
    "dset = []"
   ]
  },
  {
   "cell_type": "markdown",
   "metadata": {
    "collapsed": true
   },
   "source": [
    "Convert `samples` to a DataFrame named `df`:"
   ]
  },
  {
   "cell_type": "code",
   "execution_count": 108,
   "metadata": {
    "collapsed": true
   },
   "outputs": [],
   "source": [
    "# .. your code here ..\n",
    "\n",
    "dset = pd.DataFrame( dset )"
   ]
  },
  {
   "cell_type": "markdown",
   "metadata": {
    "collapsed": true
   },
   "source": [
    "Import any necessary libraries to perform Isomap here, reduce `df` down to three components and using `K=6` for your neighborhood size:"
   ]
  },
  {
   "cell_type": "code",
   "execution_count": 109,
   "metadata": {},
   "outputs": [],
   "source": [
    "# .. your code here ..\n",
    "from sklearn import manifold\n",
    "iso = manifold.Isomap(n_neighbors=6, n_components=3)\n",
    "iso.fit(dset)\n",
    "\n",
    "manifold = iso.transform(dset)\n"
   ]
  },
  {
   "cell_type": "markdown",
   "metadata": {},
   "source": [
    "Create a 2D Scatter plot to graph your manifold. You can use either `'o'` or `'.'` as your marker. Graph the first two isomap components:"
   ]
  },
  {
   "cell_type": "code",
   "execution_count": 110,
   "metadata": {},
   "outputs": [
    {
     "data": {
      "image/png": "[encoded data removed]",
      "text/plain": [
       "<matplotlib.figure.Figure at 0x1a190f0550>"
      ]
     },
     "metadata": {},
     "output_type": "display_data"
    }
   ],
   "source": [
    "# .. your code here ..\n",
    "fig = plt.figure()\n",
    "ax = fig.add_subplot(111)\n",
    "ax.set_title('Isomap')\n",
    "ax.scatter(manifold[:,0], manifold[:,1], c='red', marker='.', alpha=0.75)\n",
    "plt.show()"
   ]
  },
  {
   "cell_type": "markdown",
   "metadata": {},
   "source": [
    "Chart a 3D Scatter plot to graph your manifold. You can use either `'o'` or `'.'` as your marker:"
   ]
  },
  {
   "cell_type": "code",
   "execution_count": 101,
   "metadata": {},
   "outputs": [
    {
     "data": {
      "text/plain": [
       "<mpl_toolkits.mplot3d.art3d.Path3DCollection at 0x1a18aea278>"
      ]
     },
     "execution_count": 101,
     "metadata": {},
     "output_type": "execute_result"
    },
    {
     "data": {
      "image/png": "[encoded data removed]",
      "text/plain": [
       "<matplotlib.figure.Figure at 0x1a19302710>"
      ]
     },
     "metadata": {},
     "output_type": "display_data"
    }
   ],
   "source": [
    "# .. your code here ..\n",
    "# Render the Original Armadillo\n",
    "%matplotlib inline\n",
    "\n",
    "fig = plt.figure()\n",
    "ax  = fig.add_subplot(111, projection='3d')\n",
    "\n",
    "ax.set_title('Isomap 3D')\n",
    "ax.set_xlabel('X')\n",
    "ax.set_ylabel('Y')\n",
    "ax.set_zlabel('Z')\n",
    "ax.scatter(manifold[:,0], manifold[:,1], manifold[:,2], c='green', marker='.', alpha=0.75)"
   ]
  },
  {
   "cell_type": "markdown",
   "metadata": {},
   "source": [
    "Answer the first two lab questions!"
   ]
  },
  {
   "cell_type": "markdown",
   "metadata": {},
   "source": [
    "Create another for loop. This time it should iterate over all the images in the `Datasets/ALOI/32_i` directory. Just like last time, load up each image, process them the way you did previously, and append them into your existing `samples` list:"
   ]
  },
  {
   "cell_type": "code",
   "execution_count": 53,
   "metadata": {},
   "outputs": [
    {
     "data": {
      "text/plain": [
       "array([[  3.93344815, -29.3107777 ,   7.2258325 ],\n",
       "       [-30.69821988,  -7.28115768,   5.35993237],\n",
       "       [-31.64473304,  -4.30293176,   7.97070144],\n",
       "       [-32.05323175,  -1.01040816,  10.08915153],\n",
       "       [-32.0158365 ,   2.32511122,  11.32944874],\n",
       "       [-31.98200254,   5.48306036,  11.42181225],\n",
       "       [-31.37569282,   8.69776103,  10.64266727],\n",
       "       [-30.26292053,  11.81048219,   8.7813434 ],\n",
       "       [-29.32718311,  14.65406278,   6.25399159],\n",
       "       [-27.90287433,  17.14844275,   3.45582296],\n",
       "       [-26.15918903,  19.4967231 ,   0.5416001 ],\n",
       "       [  1.28721188, -29.54386146,   5.24579297],\n",
       "       [-24.50642469,  21.97261345,  -2.80340694],\n",
       "       [-22.46771442,  23.91453072,  -5.55547505],\n",
       "       [-20.12843999,  25.71626202,  -7.82224812],\n",
       "       [-17.80262794,  27.53904976,  -9.69439524],\n",
       "       [-15.25782393,  28.7505464 , -10.48957112],\n",
       "       [-12.42498677,  29.68521869, -10.06679476],\n",
       "       [ -9.61955179,  30.75342869,  -9.34757649],\n",
       "       [ -6.6785047 ,  31.40014743,  -8.19217877],\n",
       "       [ -3.51286512,  31.74410423,  -5.86571045],\n",
       "       [ -0.55521386,  32.10437366,  -3.47946922],\n",
       "       [ -1.56957374, -29.61607711,   2.79184101],\n",
       "       [  2.7094576 ,  31.93187057,  -0.63623657],\n",
       "       [  5.89203138,  31.46257543,   2.62265709],\n",
       "       [  8.84313189,  30.95014717,   5.34824392],\n",
       "       [ 11.86260836,  29.88680629,   7.6762918 ],\n",
       "       [ 14.71340844,  28.62401915,   9.77011141],\n",
       "       [ 17.20268508,  27.23089739,  10.55293704],\n",
       "       [ 19.62274754,  25.3189547 ,  10.3658937 ],\n",
       "       [ 21.84025715,  23.39020274,  10.0357543 ],\n",
       "       [ 23.62171384,  21.33213504,   8.31248325],\n",
       "       [ 25.26332313,  18.80802635,   5.82783287],\n",
       "       [ -4.35970536, -29.32412376,   0.18109034],\n",
       "       [ 26.60305727,  16.34261981,   3.59835415],\n",
       "       [ 27.63993131,  13.78349112,   0.6209366 ],\n",
       "       [ 28.34345893,  10.95755445,  -2.44963705],\n",
       "       [ 29.10094675,   8.35501825,  -4.62480835],\n",
       "       [ 29.52625591,   5.71392941,  -6.92729375],\n",
       "       [ 29.57776659,   3.03747124,  -8.58297114],\n",
       "       [ 29.72775226,   0.66117774,  -9.2322023 ],\n",
       "       [ 29.5532985 ,  -1.83495177,  -9.81728845],\n",
       "       [ 29.11431006,  -4.37542089,  -9.81901321],\n",
       "       [ 28.8208032 ,  -6.69842628,  -9.13566747],\n",
       "       [ -7.05190417, -28.86767521,  -2.31377095],\n",
       "       [ 28.06961059,  -9.07303851,  -7.92284162],\n",
       "       [ 27.13224599, -11.42565561,  -6.36821959],\n",
       "       [ 26.26837636, -13.66808246,  -4.23973204],\n",
       "       [ 24.97163165, -15.82483919,  -1.89178058],\n",
       "       [ 23.4585255 , -17.94760417,   0.57563324],\n",
       "       [ 22.03533156, -19.9258592 ,   3.15683644],\n",
       "       [ 20.16947283, -21.73005765,   5.52799778],\n",
       "       [ 18.1270423 , -23.42606524,   7.49047268],\n",
       "       [ 17.02911375, -24.80953109,   8.70772892],\n",
       "       [ 15.45113909, -25.42051667,   9.45293165],\n",
       "       [ -9.71472831, -28.20034367,  -4.66722816],\n",
       "       [ 13.05097942, -26.6106087 ,  10.13000597],\n",
       "       [ 10.53985078, -27.66131167,  10.08575829],\n",
       "       [-12.16448476, -27.35447923,  -6.63075981],\n",
       "       [-14.44014617, -26.38330822,  -8.03848614],\n",
       "       [  6.76198952, -28.89029201,   8.90535566],\n",
       "       [-16.66549096, -25.21182457,  -8.95086722],\n",
       "       [-18.67048158, -23.90731224,  -9.30628085],\n",
       "       [-20.56173881, -22.46421268,  -9.10015755],\n",
       "       [-22.54671499, -20.81697527,  -8.36121456],\n",
       "       [-24.24800711, -18.95154664,  -6.99294548],\n",
       "       [-25.75692071, -17.8913688 ,  -5.77091722],\n",
       "       [-26.44095178, -16.06906613,  -4.21411397],\n",
       "       [-28.02374247, -13.86635526,  -1.8029213 ],\n",
       "       [-29.27428689, -11.28674864,   1.05893627]])"
      ]
     },
     "execution_count": 53,
     "metadata": {},
     "output_type": "execute_result"
    }
   ],
   "source": [
    "# .. your code here ..\n",
    "manifold"
   ]
  },
  {
   "cell_type": "markdown",
   "metadata": {
    "collapsed": true
   },
   "source": [
    "Convert `samples` to a DataFrame named `df`:"
   ]
  },
  {
   "cell_type": "code",
   "execution_count": null,
   "metadata": {
    "collapsed": true
   },
   "outputs": [],
   "source": [
    "# .. your code here .."
   ]
  },
  {
   "cell_type": "markdown",
   "metadata": {
    "collapsed": true
   },
   "source": [
    "Import any necessary libraries to perform Isomap here, reduce `df` down to three components and using `K=6` for your neighborhood size:"
   ]
  },
  {
   "cell_type": "code",
   "execution_count": null,
   "metadata": {},
   "outputs": [],
   "source": [
    "# .. your code here .."
   ]
  },
  {
   "cell_type": "markdown",
   "metadata": {},
   "source": [
    "Create a 2D Scatter plot to graph your manifold. You can use either `'o'` or `'.'` as your marker. Graph the first two isomap components:"
   ]
  },
  {
   "cell_type": "code",
   "execution_count": null,
   "metadata": {
    "collapsed": true
   },
   "outputs": [],
   "source": [
    "# .. your code here .."
   ]
  },
  {
   "cell_type": "markdown",
   "metadata": {},
   "source": [
    "Chart a 3D Scatter plot to graph your manifold. You can use either `'o'` or `'.'` as your marker:"
   ]
  },
  {
   "cell_type": "code",
   "execution_count": null,
   "metadata": {
    "collapsed": true
   },
   "outputs": [],
   "source": [
    "# .. your code here .."
   ]
  },
  {
   "cell_type": "code",
   "execution_count": null,
   "metadata": {
    "collapsed": true
   },
   "outputs": [],
   "source": []
  }
 ],
 "metadata": {
  "anaconda-cloud": {},
  "kernelspec": {
   "display_name": "Python 3",
   "language": "python",
   "name": "python3"
  },
  "language_info": {
   "codemirror_mode": {
    "name": "ipython",
    "version": 3
   },
   "file_extension": ".py",
   "mimetype": "text/x-python",
   "name": "python",
   "nbconvert_exporter": "python",
   "pygments_lexer": "ipython3",
   "version": "3.6.3"
  },
  "toc": {
   "colors": {
    "hover_highlight": "#DAA520",
    "running_highlight": "#FF0000",
    "selected_highlight": "#FFD700"
   },
   "moveMenuLeft": true,
   "nav_menu": {
    "height": "58px",
    "width": "252px"
   },
   "navigate_menu": true,
   "number_sections": true,
   "sideBar": true,
   "threshold": 4,
   "toc_cell": false,
   "toc_section_display": "block",
   "toc_window_display": false,
   "widenNotebook": false
  }
 },
 "nbformat": 4,
 "nbformat_minor": 2
}
